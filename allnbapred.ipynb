{
 "cells": [
  {
   "attachments": {},
   "cell_type": "markdown",
   "metadata": {},
   "source": [
    "# All-NBA Team Binary Classification Model\n",
    "\n",
    "Will use various classification algorithms(logisitic regression, KNN, SVM, etc) and evaluate performance on dataset."
   ]
  },
  {
   "cell_type": "code",
   "execution_count": 854,
   "metadata": {},
   "outputs": [],
   "source": [
    "import pandas as pd\n",
    "import numpy as np \n",
    "import torch\n",
    "from torch import nn\n",
    "from torchvision import transforms\n",
    "import matplotlib.pyplot as plt\n",
    "from mpl_toolkits import mplot3d\n",
    "import sklearn\n",
    "from sklearn import *\n",
    "from sklearn.metrics import *\n",
    "import pickle"
   ]
  },
  {
   "attachments": {},
   "cell_type": "markdown",
   "metadata": {},
   "source": [
    "## Load and analyze dataset\n",
    "\n",
    "Preview features (player, games started, minutes played, etc.) and training examples (the players)."
   ]
  },
  {
   "cell_type": "code",
   "execution_count": 855,
   "metadata": {},
   "outputs": [
    {
     "data": {
      "text/html": [
       "<div>\n",
       "<style scoped>\n",
       "    .dataframe tbody tr th:only-of-type {\n",
       "        vertical-align: middle;\n",
       "    }\n",
       "\n",
       "    .dataframe tbody tr th {\n",
       "        vertical-align: top;\n",
       "    }\n",
       "\n",
       "    .dataframe thead th {\n",
       "        text-align: right;\n",
       "    }\n",
       "</style>\n",
       "<table border=\"1\" class=\"dataframe\">\n",
       "  <thead>\n",
       "    <tr style=\"text-align: right;\">\n",
       "      <th></th>\n",
       "      <th>Player</th>\n",
       "      <th>G</th>\n",
       "      <th>GPnS%</th>\n",
       "      <th>GPnSround%</th>\n",
       "      <th>GS</th>\n",
       "      <th>MP</th>\n",
       "      <th>FG</th>\n",
       "      <th>FGA</th>\n",
       "      <th>FG%</th>\n",
       "      <th>3P</th>\n",
       "      <th>...</th>\n",
       "      <th>STL</th>\n",
       "      <th>BLK</th>\n",
       "      <th>TOV</th>\n",
       "      <th>PF</th>\n",
       "      <th>PTS</th>\n",
       "      <th>PER</th>\n",
       "      <th>WS</th>\n",
       "      <th>BPM</th>\n",
       "      <th>VORP</th>\n",
       "      <th>All-NBA?</th>\n",
       "    </tr>\n",
       "  </thead>\n",
       "  <tbody>\n",
       "    <tr>\n",
       "      <th>0</th>\n",
       "      <td>Precious Achiuwa</td>\n",
       "      <td>61</td>\n",
       "      <td>0.055556</td>\n",
       "      <td>0.0556</td>\n",
       "      <td>4</td>\n",
       "      <td>12.1</td>\n",
       "      <td>2.0</td>\n",
       "      <td>3.7</td>\n",
       "      <td>0.544</td>\n",
       "      <td>0.0</td>\n",
       "      <td>...</td>\n",
       "      <td>0.3</td>\n",
       "      <td>0.5</td>\n",
       "      <td>0.7</td>\n",
       "      <td>1.5</td>\n",
       "      <td>5.0</td>\n",
       "      <td>14.2</td>\n",
       "      <td>1.3</td>\n",
       "      <td>-4.5</td>\n",
       "      <td>-0.5</td>\n",
       "      <td>0</td>\n",
       "    </tr>\n",
       "    <tr>\n",
       "      <th>1</th>\n",
       "      <td>Jaylen Adams</td>\n",
       "      <td>7</td>\n",
       "      <td>0.000000</td>\n",
       "      <td>0.0000</td>\n",
       "      <td>0</td>\n",
       "      <td>2.6</td>\n",
       "      <td>0.1</td>\n",
       "      <td>1.1</td>\n",
       "      <td>0.125</td>\n",
       "      <td>0.0</td>\n",
       "      <td>...</td>\n",
       "      <td>0.0</td>\n",
       "      <td>0.0</td>\n",
       "      <td>0.0</td>\n",
       "      <td>0.1</td>\n",
       "      <td>0.3</td>\n",
       "      <td>-6.5</td>\n",
       "      <td>-0.1</td>\n",
       "      <td>-19.8</td>\n",
       "      <td>-0.1</td>\n",
       "      <td>0</td>\n",
       "    </tr>\n",
       "    <tr>\n",
       "      <th>2</th>\n",
       "      <td>Steven Adams</td>\n",
       "      <td>58</td>\n",
       "      <td>0.805556</td>\n",
       "      <td>0.8056</td>\n",
       "      <td>58</td>\n",
       "      <td>27.7</td>\n",
       "      <td>3.3</td>\n",
       "      <td>5.3</td>\n",
       "      <td>0.614</td>\n",
       "      <td>0.0</td>\n",
       "      <td>...</td>\n",
       "      <td>0.9</td>\n",
       "      <td>0.7</td>\n",
       "      <td>1.3</td>\n",
       "      <td>1.9</td>\n",
       "      <td>7.6</td>\n",
       "      <td>15.1</td>\n",
       "      <td>4.0</td>\n",
       "      <td>-0.8</td>\n",
       "      <td>0.5</td>\n",
       "      <td>0</td>\n",
       "    </tr>\n",
       "    <tr>\n",
       "      <th>3</th>\n",
       "      <td>Bam Adebayo</td>\n",
       "      <td>64</td>\n",
       "      <td>0.888889</td>\n",
       "      <td>0.8889</td>\n",
       "      <td>64</td>\n",
       "      <td>33.5</td>\n",
       "      <td>7.1</td>\n",
       "      <td>12.5</td>\n",
       "      <td>0.570</td>\n",
       "      <td>0.0</td>\n",
       "      <td>...</td>\n",
       "      <td>1.2</td>\n",
       "      <td>1.0</td>\n",
       "      <td>2.6</td>\n",
       "      <td>2.3</td>\n",
       "      <td>18.7</td>\n",
       "      <td>22.7</td>\n",
       "      <td>8.8</td>\n",
       "      <td>4.7</td>\n",
       "      <td>3.6</td>\n",
       "      <td>0</td>\n",
       "    </tr>\n",
       "    <tr>\n",
       "      <th>4</th>\n",
       "      <td>LaMarcus Aldridge</td>\n",
       "      <td>26</td>\n",
       "      <td>0.319444</td>\n",
       "      <td>0.3194</td>\n",
       "      <td>23</td>\n",
       "      <td>25.9</td>\n",
       "      <td>5.4</td>\n",
       "      <td>11.4</td>\n",
       "      <td>0.473</td>\n",
       "      <td>1.2</td>\n",
       "      <td>...</td>\n",
       "      <td>0.4</td>\n",
       "      <td>1.1</td>\n",
       "      <td>1.0</td>\n",
       "      <td>1.8</td>\n",
       "      <td>13.5</td>\n",
       "      <td>15.7</td>\n",
       "      <td>1.1</td>\n",
       "      <td>-0.6</td>\n",
       "      <td>0.2</td>\n",
       "      <td>0</td>\n",
       "    </tr>\n",
       "  </tbody>\n",
       "</table>\n",
       "<p>5 rows × 28 columns</p>\n",
       "</div>"
      ],
      "text/plain": [
       "              Player   G     GPnS%  GPnSround%  GS    MP   FG   FGA    FG%  \\\n",
       "0   Precious Achiuwa  61  0.055556      0.0556   4  12.1  2.0   3.7  0.544   \n",
       "1       Jaylen Adams   7  0.000000      0.0000   0   2.6  0.1   1.1  0.125   \n",
       "2       Steven Adams  58  0.805556      0.8056  58  27.7  3.3   5.3  0.614   \n",
       "3        Bam Adebayo  64  0.888889      0.8889  64  33.5  7.1  12.5  0.570   \n",
       "4  LaMarcus Aldridge  26  0.319444      0.3194  23  25.9  5.4  11.4  0.473   \n",
       "\n",
       "    3P  ...  STL  BLK  TOV   PF   PTS   PER   WS   BPM  VORP  All-NBA?  \n",
       "0  0.0  ...  0.3  0.5  0.7  1.5   5.0  14.2  1.3  -4.5  -0.5         0  \n",
       "1  0.0  ...  0.0  0.0  0.0  0.1   0.3  -6.5 -0.1 -19.8  -0.1         0  \n",
       "2  0.0  ...  0.9  0.7  1.3  1.9   7.6  15.1  4.0  -0.8   0.5         0  \n",
       "3  0.0  ...  1.2  1.0  2.6  2.3  18.7  22.7  8.8   4.7   3.6         0  \n",
       "4  1.2  ...  0.4  1.1  1.0  1.8  13.5  15.7  1.1  -0.6   0.2         0  \n",
       "\n",
       "[5 rows x 28 columns]"
      ]
     },
     "execution_count": 855,
     "metadata": {},
     "output_type": "execute_result"
    }
   ],
   "source": [
    "DATADIR = \"DataSet.csv\"\n",
    "df = pd.read_csv(DATADIR) # read dataset\n",
    "df.head() # preview first few features and rows"
   ]
  },
  {
   "attachments": {},
   "cell_type": "markdown",
   "metadata": {},
   "source": [
    "Look at list of all features."
   ]
  },
  {
   "cell_type": "code",
   "execution_count": 856,
   "metadata": {},
   "outputs": [
    {
     "data": {
      "text/plain": [
       "Index(['Player', 'G', 'GPnS%', 'GPnSround%', 'GS', 'MP', 'FG', 'FGA', 'FG%',\n",
       "       '3P', '3PA', '3P%', '2P', '2PA', '2P%', 'eFG%', 'TRB', 'AST', 'STL',\n",
       "       'BLK', 'TOV', 'PF', 'PTS', 'PER', 'WS', 'BPM', 'VORP', 'All-NBA?'],\n",
       "      dtype='object')"
      ]
     },
     "execution_count": 856,
     "metadata": {},
     "output_type": "execute_result"
    }
   ],
   "source": [
    "df.columns # list of columns"
   ]
  },
  {
   "attachments": {},
   "cell_type": "markdown",
   "metadata": {},
   "source": [
    "Remove player column from dataset and store it in numpy array."
   ]
  },
  {
   "cell_type": "code",
   "execution_count": 857,
   "metadata": {},
   "outputs": [],
   "source": [
    "players = df.pop('Player') # remove Player column from dataSet and store in players\n",
    "players = np.array(players) # cast players from list into numpy array"
   ]
  },
  {
   "attachments": {},
   "cell_type": "markdown",
   "metadata": {},
   "source": [
    "Examine players numpy array."
   ]
  },
  {
   "cell_type": "code",
   "execution_count": 858,
   "metadata": {},
   "outputs": [
    {
     "data": {
      "text/plain": [
       "array(['Precious Achiuwa', 'Jaylen Adams', 'Steven Adams', ...,\n",
       "       'Andre Drummond', 'Klay Thompson', 'Kyle Lowry'], dtype=object)"
      ]
     },
     "execution_count": 858,
     "metadata": {},
     "output_type": "execute_result"
    }
   ],
   "source": [
    "players"
   ]
  },
  {
   "attachments": {},
   "cell_type": "markdown",
   "metadata": {},
   "source": [
    "## Find correlation between features and target variable\n",
    "\n",
    "Use a correlation matrix to determine the features with the strongest correlation to the target variable (All-NBA?). Look at the leftmost and rightmost column to analyze strongest features."
   ]
  },
  {
   "cell_type": "code",
   "execution_count": 859,
   "metadata": {},
   "outputs": [
    {
     "data": {
      "text/plain": [
       "G             0.275890\n",
       "GPnS%         0.454324\n",
       "GPnSround%    0.454319\n",
       "GS            0.471530\n",
       "MP            0.402598\n",
       "FG            0.551768\n",
       "FGA           0.524672\n",
       "FG%           0.127382\n",
       "3P            0.297344\n",
       "3PA           0.297626\n",
       "3P%           0.061744\n",
       "2P            0.540380\n",
       "2PA           0.532232\n",
       "2P%           0.087835\n",
       "eFG%          0.100872\n",
       "TRB           0.418248\n",
       "AST           0.475572\n",
       "STL           0.435999\n",
       "BLK           0.274642\n",
       "TOV           0.535496\n",
       "PF            0.219371\n",
       "PTS           0.581269\n",
       "PER           0.420605\n",
       "WS            0.703642\n",
       "BPM           0.382282\n",
       "VORP          0.779935\n",
       "All-NBA?      1.000000\n",
       "dtype: float64"
      ]
     },
     "execution_count": 859,
     "metadata": {},
     "output_type": "execute_result"
    }
   ],
   "source": [
    "# dataSet.corr()    this prints the correlation matrix for all other features\n",
    "df.corrwith(df[\"All-NBA?\"])"
   ]
  },
  {
   "attachments": {},
   "cell_type": "markdown",
   "metadata": {},
   "source": [
    "## Feature Selection\n",
    "\n",
    "Choose features based on strongest correlation with target variable."
   ]
  },
  {
   "cell_type": "code",
   "execution_count": 860,
   "metadata": {},
   "outputs": [],
   "source": [
    "# include all rows and only the listed colums\n",
    "df = df.loc[:, [\"GS\", \"FG\", \"FGA\", \"2P\", \"2PA\", \"AST\", \n",
    "                \"TOV\", \"PTS\", \"WS\", \"VORP\", \"All-NBA?\"]] "
   ]
  },
  {
   "attachments": {},
   "cell_type": "markdown",
   "metadata": {},
   "source": [
    "## Feature Engineering\n",
    "\n",
    "Develop new features based on existing features. For example, the AST/TOV ratio is a commonly used statistic in evaluating the playmaking ability of a player."
   ]
  },
  {
   "cell_type": "code",
   "execution_count": 861,
   "metadata": {},
   "outputs": [],
   "source": [
    "df['AST/TOV'] = df.apply(lambda x: x['AST'] / x['TOV'] if x['TOV'] != 0 else 1, axis = 1)"
   ]
  },
  {
   "cell_type": "code",
   "execution_count": 862,
   "metadata": {},
   "outputs": [
    {
     "data": {
      "text/plain": [
       "0       0.714286\n",
       "1       1.000000\n",
       "2       1.461538\n",
       "3       2.076923\n",
       "4       1.900000\n",
       "          ...   \n",
       "1110    1.242424\n",
       "1111    1.153846\n",
       "1112    0.421053\n",
       "1113    1.235294\n",
       "1114    2.206897\n",
       "Name: AST/TOV, Length: 1115, dtype: float64"
      ]
     },
     "execution_count": 862,
     "metadata": {},
     "output_type": "execute_result"
    }
   ],
   "source": [
    "df['AST/TOV']"
   ]
  },
  {
   "cell_type": "code",
   "execution_count": 863,
   "metadata": {},
   "outputs": [
    {
     "data": {
      "text/plain": [
       "GS          0.471530\n",
       "FG          0.551768\n",
       "FGA         0.524672\n",
       "2P          0.540380\n",
       "2PA         0.532232\n",
       "AST         0.475572\n",
       "TOV         0.535496\n",
       "PTS         0.581269\n",
       "WS          0.703642\n",
       "VORP        0.779935\n",
       "All-NBA?    1.000000\n",
       "AST/TOV     0.024009\n",
       "dtype: float64"
      ]
     },
     "execution_count": 863,
     "metadata": {},
     "output_type": "execute_result"
    }
   ],
   "source": [
    "df.corrwith(df['All-NBA?'])"
   ]
  },
  {
   "attachments": {},
   "cell_type": "markdown",
   "metadata": {},
   "source": [
    "AST/TOV doesn't have a strong positive correlation with making an All-NBA team, so we'll discard it."
   ]
  },
  {
   "cell_type": "code",
   "execution_count": 864,
   "metadata": {},
   "outputs": [
    {
     "data": {
      "text/html": [
       "<div>\n",
       "<style scoped>\n",
       "    .dataframe tbody tr th:only-of-type {\n",
       "        vertical-align: middle;\n",
       "    }\n",
       "\n",
       "    .dataframe tbody tr th {\n",
       "        vertical-align: top;\n",
       "    }\n",
       "\n",
       "    .dataframe thead th {\n",
       "        text-align: right;\n",
       "    }\n",
       "</style>\n",
       "<table border=\"1\" class=\"dataframe\">\n",
       "  <thead>\n",
       "    <tr style=\"text-align: right;\">\n",
       "      <th></th>\n",
       "      <th>GS</th>\n",
       "      <th>FG</th>\n",
       "      <th>FGA</th>\n",
       "      <th>2P</th>\n",
       "      <th>2PA</th>\n",
       "      <th>AST</th>\n",
       "      <th>TOV</th>\n",
       "      <th>PTS</th>\n",
       "      <th>WS</th>\n",
       "      <th>VORP</th>\n",
       "      <th>All-NBA?</th>\n",
       "    </tr>\n",
       "  </thead>\n",
       "  <tbody>\n",
       "    <tr>\n",
       "      <th>0</th>\n",
       "      <td>4</td>\n",
       "      <td>2.0</td>\n",
       "      <td>3.7</td>\n",
       "      <td>2.0</td>\n",
       "      <td>3.7</td>\n",
       "      <td>0.5</td>\n",
       "      <td>0.7</td>\n",
       "      <td>5.0</td>\n",
       "      <td>1.3</td>\n",
       "      <td>-0.5</td>\n",
       "      <td>0</td>\n",
       "    </tr>\n",
       "    <tr>\n",
       "      <th>1</th>\n",
       "      <td>0</td>\n",
       "      <td>0.1</td>\n",
       "      <td>1.1</td>\n",
       "      <td>0.1</td>\n",
       "      <td>0.9</td>\n",
       "      <td>0.3</td>\n",
       "      <td>0.0</td>\n",
       "      <td>0.3</td>\n",
       "      <td>-0.1</td>\n",
       "      <td>-0.1</td>\n",
       "      <td>0</td>\n",
       "    </tr>\n",
       "    <tr>\n",
       "      <th>2</th>\n",
       "      <td>58</td>\n",
       "      <td>3.3</td>\n",
       "      <td>5.3</td>\n",
       "      <td>3.3</td>\n",
       "      <td>5.3</td>\n",
       "      <td>1.9</td>\n",
       "      <td>1.3</td>\n",
       "      <td>7.6</td>\n",
       "      <td>4.0</td>\n",
       "      <td>0.5</td>\n",
       "      <td>0</td>\n",
       "    </tr>\n",
       "    <tr>\n",
       "      <th>3</th>\n",
       "      <td>64</td>\n",
       "      <td>7.1</td>\n",
       "      <td>12.5</td>\n",
       "      <td>7.1</td>\n",
       "      <td>12.4</td>\n",
       "      <td>5.4</td>\n",
       "      <td>2.6</td>\n",
       "      <td>18.7</td>\n",
       "      <td>8.8</td>\n",
       "      <td>3.6</td>\n",
       "      <td>0</td>\n",
       "    </tr>\n",
       "    <tr>\n",
       "      <th>4</th>\n",
       "      <td>23</td>\n",
       "      <td>5.4</td>\n",
       "      <td>11.4</td>\n",
       "      <td>4.2</td>\n",
       "      <td>8.3</td>\n",
       "      <td>1.9</td>\n",
       "      <td>1.0</td>\n",
       "      <td>13.5</td>\n",
       "      <td>1.1</td>\n",
       "      <td>0.2</td>\n",
       "      <td>0</td>\n",
       "    </tr>\n",
       "    <tr>\n",
       "      <th>...</th>\n",
       "      <td>...</td>\n",
       "      <td>...</td>\n",
       "      <td>...</td>\n",
       "      <td>...</td>\n",
       "      <td>...</td>\n",
       "      <td>...</td>\n",
       "      <td>...</td>\n",
       "      <td>...</td>\n",
       "      <td>...</td>\n",
       "      <td>...</td>\n",
       "      <td>...</td>\n",
       "    </tr>\n",
       "    <tr>\n",
       "      <th>1110</th>\n",
       "      <td>81</td>\n",
       "      <td>7.5</td>\n",
       "      <td>17.9</td>\n",
       "      <td>4.9</td>\n",
       "      <td>10.9</td>\n",
       "      <td>4.1</td>\n",
       "      <td>3.3</td>\n",
       "      <td>23.1</td>\n",
       "      <td>9.2</td>\n",
       "      <td>4.9</td>\n",
       "      <td>1</td>\n",
       "    </tr>\n",
       "    <tr>\n",
       "      <th>1111</th>\n",
       "      <td>74</td>\n",
       "      <td>7.2</td>\n",
       "      <td>14.1</td>\n",
       "      <td>7.2</td>\n",
       "      <td>13.9</td>\n",
       "      <td>1.5</td>\n",
       "      <td>1.3</td>\n",
       "      <td>18.0</td>\n",
       "      <td>10.1</td>\n",
       "      <td>2.5</td>\n",
       "      <td>1</td>\n",
       "    </tr>\n",
       "    <tr>\n",
       "      <th>1112</th>\n",
       "      <td>81</td>\n",
       "      <td>6.8</td>\n",
       "      <td>13.1</td>\n",
       "      <td>6.8</td>\n",
       "      <td>13.0</td>\n",
       "      <td>0.8</td>\n",
       "      <td>1.9</td>\n",
       "      <td>16.2</td>\n",
       "      <td>7.4</td>\n",
       "      <td>2.0</td>\n",
       "      <td>1</td>\n",
       "    </tr>\n",
       "    <tr>\n",
       "      <th>1113</th>\n",
       "      <td>80</td>\n",
       "      <td>8.1</td>\n",
       "      <td>17.3</td>\n",
       "      <td>4.7</td>\n",
       "      <td>9.2</td>\n",
       "      <td>2.1</td>\n",
       "      <td>1.7</td>\n",
       "      <td>22.1</td>\n",
       "      <td>8.0</td>\n",
       "      <td>2.5</td>\n",
       "      <td>1</td>\n",
       "    </tr>\n",
       "    <tr>\n",
       "      <th>1114</th>\n",
       "      <td>77</td>\n",
       "      <td>6.6</td>\n",
       "      <td>15.6</td>\n",
       "      <td>3.9</td>\n",
       "      <td>8.5</td>\n",
       "      <td>6.4</td>\n",
       "      <td>2.9</td>\n",
       "      <td>21.2</td>\n",
       "      <td>11.6</td>\n",
       "      <td>5.0</td>\n",
       "      <td>1</td>\n",
       "    </tr>\n",
       "  </tbody>\n",
       "</table>\n",
       "<p>1115 rows × 11 columns</p>\n",
       "</div>"
      ],
      "text/plain": [
       "      GS   FG   FGA   2P   2PA  AST  TOV   PTS    WS  VORP  All-NBA?\n",
       "0      4  2.0   3.7  2.0   3.7  0.5  0.7   5.0   1.3  -0.5         0\n",
       "1      0  0.1   1.1  0.1   0.9  0.3  0.0   0.3  -0.1  -0.1         0\n",
       "2     58  3.3   5.3  3.3   5.3  1.9  1.3   7.6   4.0   0.5         0\n",
       "3     64  7.1  12.5  7.1  12.4  5.4  2.6  18.7   8.8   3.6         0\n",
       "4     23  5.4  11.4  4.2   8.3  1.9  1.0  13.5   1.1   0.2         0\n",
       "...   ..  ...   ...  ...   ...  ...  ...   ...   ...   ...       ...\n",
       "1110  81  7.5  17.9  4.9  10.9  4.1  3.3  23.1   9.2   4.9         1\n",
       "1111  74  7.2  14.1  7.2  13.9  1.5  1.3  18.0  10.1   2.5         1\n",
       "1112  81  6.8  13.1  6.8  13.0  0.8  1.9  16.2   7.4   2.0         1\n",
       "1113  80  8.1  17.3  4.7   9.2  2.1  1.7  22.1   8.0   2.5         1\n",
       "1114  77  6.6  15.6  3.9   8.5  6.4  2.9  21.2  11.6   5.0         1\n",
       "\n",
       "[1115 rows x 11 columns]"
      ]
     },
     "execution_count": 864,
     "metadata": {},
     "output_type": "execute_result"
    }
   ],
   "source": [
    "df = df.drop('AST/TOV', axis = 1)\n",
    "df"
   ]
  },
  {
   "attachments": {},
   "cell_type": "markdown",
   "metadata": {},
   "source": [
    "## Feature Scaling\n",
    "\n",
    "Scale features so that they have a uniform range. In this case we'll use Z-score normalization, which uses the following equation: $$ x_{n} = \\frac{x_{n} - \\mu_{n}}{\\sigma_{n}} $$\n",
    "where $ x_n $ is the row of the nth column, $ \\mu_{n} $ is the mean of the nth column, and $ \\sigma_{n} $ is the standard deviation of the nth column."
   ]
  },
  {
   "cell_type": "code",
   "execution_count": 865,
   "metadata": {},
   "outputs": [],
   "source": [
    "features_df = df.drop(\"All-NBA?\", axis = 1)\n",
    "for col in features_df:\n",
    "    df[col] = (df[col] - np.mean(df[col])) / np.std(df[col])"
   ]
  },
  {
   "cell_type": "code",
   "execution_count": 866,
   "metadata": {},
   "outputs": [
    {
     "data": {
      "text/html": [
       "<div>\n",
       "<style scoped>\n",
       "    .dataframe tbody tr th:only-of-type {\n",
       "        vertical-align: middle;\n",
       "    }\n",
       "\n",
       "    .dataframe tbody tr th {\n",
       "        vertical-align: top;\n",
       "    }\n",
       "\n",
       "    .dataframe thead th {\n",
       "        text-align: right;\n",
       "    }\n",
       "</style>\n",
       "<table border=\"1\" class=\"dataframe\">\n",
       "  <thead>\n",
       "    <tr style=\"text-align: right;\">\n",
       "      <th></th>\n",
       "      <th>GS</th>\n",
       "      <th>FG</th>\n",
       "      <th>FGA</th>\n",
       "      <th>2P</th>\n",
       "      <th>2PA</th>\n",
       "      <th>AST</th>\n",
       "      <th>TOV</th>\n",
       "      <th>PTS</th>\n",
       "      <th>WS</th>\n",
       "      <th>VORP</th>\n",
       "      <th>All-NBA?</th>\n",
       "    </tr>\n",
       "  </thead>\n",
       "  <tbody>\n",
       "    <tr>\n",
       "      <th>0</th>\n",
       "      <td>-0.722867</td>\n",
       "      <td>-0.586508</td>\n",
       "      <td>-0.750066</td>\n",
       "      <td>-0.232221</td>\n",
       "      <td>-0.279581</td>\n",
       "      <td>-0.799192</td>\n",
       "      <td>-0.503871</td>\n",
       "      <td>-0.634993</td>\n",
       "      <td>-0.406723</td>\n",
       "      <td>-0.771077</td>\n",
       "      <td>0</td>\n",
       "    </tr>\n",
       "    <tr>\n",
       "      <th>1</th>\n",
       "      <td>-0.869279</td>\n",
       "      <td>-1.360132</td>\n",
       "      <td>-1.264204</td>\n",
       "      <td>-1.174310</td>\n",
       "      <td>-1.033536</td>\n",
       "      <td>-0.899535</td>\n",
       "      <td>-1.282163</td>\n",
       "      <td>-1.317497</td>\n",
       "      <td>-0.855888</td>\n",
       "      <td>-0.512913</td>\n",
       "      <td>0</td>\n",
       "    </tr>\n",
       "    <tr>\n",
       "      <th>2</th>\n",
       "      <td>1.253691</td>\n",
       "      <td>-0.057186</td>\n",
       "      <td>-0.433674</td>\n",
       "      <td>0.412367</td>\n",
       "      <td>0.151250</td>\n",
       "      <td>-0.096789</td>\n",
       "      <td>0.163237</td>\n",
       "      <td>-0.257438</td>\n",
       "      <td>0.459524</td>\n",
       "      <td>-0.125667</td>\n",
       "      <td>0</td>\n",
       "    </tr>\n",
       "    <tr>\n",
       "      <th>3</th>\n",
       "      <td>1.473309</td>\n",
       "      <td>1.490061</td>\n",
       "      <td>0.990092</td>\n",
       "      <td>2.296546</td>\n",
       "      <td>2.063063</td>\n",
       "      <td>1.659219</td>\n",
       "      <td>1.608637</td>\n",
       "      <td>1.354432</td>\n",
       "      <td>1.999518</td>\n",
       "      <td>1.875106</td>\n",
       "      <td>0</td>\n",
       "    </tr>\n",
       "    <tr>\n",
       "      <th>4</th>\n",
       "      <td>-0.027411</td>\n",
       "      <td>0.797871</td>\n",
       "      <td>0.772572</td>\n",
       "      <td>0.858620</td>\n",
       "      <td>0.959058</td>\n",
       "      <td>-0.096789</td>\n",
       "      <td>-0.170317</td>\n",
       "      <td>0.599322</td>\n",
       "      <td>-0.470890</td>\n",
       "      <td>-0.319290</td>\n",
       "      <td>0</td>\n",
       "    </tr>\n",
       "    <tr>\n",
       "      <th>...</th>\n",
       "      <td>...</td>\n",
       "      <td>...</td>\n",
       "      <td>...</td>\n",
       "      <td>...</td>\n",
       "      <td>...</td>\n",
       "      <td>...</td>\n",
       "      <td>...</td>\n",
       "      <td>...</td>\n",
       "      <td>...</td>\n",
       "      <td>...</td>\n",
       "      <td>...</td>\n",
       "    </tr>\n",
       "    <tr>\n",
       "      <th>1110</th>\n",
       "      <td>2.095559</td>\n",
       "      <td>1.652929</td>\n",
       "      <td>2.057916</td>\n",
       "      <td>1.205706</td>\n",
       "      <td>1.659158</td>\n",
       "      <td>1.006988</td>\n",
       "      <td>2.386929</td>\n",
       "      <td>1.993371</td>\n",
       "      <td>2.127851</td>\n",
       "      <td>2.714139</td>\n",
       "      <td>1</td>\n",
       "    </tr>\n",
       "    <tr>\n",
       "      <th>1111</th>\n",
       "      <td>1.839338</td>\n",
       "      <td>1.530778</td>\n",
       "      <td>1.306484</td>\n",
       "      <td>2.346130</td>\n",
       "      <td>2.466967</td>\n",
       "      <td>-0.297475</td>\n",
       "      <td>0.163237</td>\n",
       "      <td>1.252782</td>\n",
       "      <td>2.416600</td>\n",
       "      <td>1.165154</td>\n",
       "      <td>1</td>\n",
       "    </tr>\n",
       "    <tr>\n",
       "      <th>1112</th>\n",
       "      <td>2.095559</td>\n",
       "      <td>1.367910</td>\n",
       "      <td>1.108739</td>\n",
       "      <td>2.147795</td>\n",
       "      <td>2.224624</td>\n",
       "      <td>-0.648677</td>\n",
       "      <td>0.830345</td>\n",
       "      <td>0.991398</td>\n",
       "      <td>1.550353</td>\n",
       "      <td>0.842449</td>\n",
       "      <td>1</td>\n",
       "    </tr>\n",
       "    <tr>\n",
       "      <th>1113</th>\n",
       "      <td>2.058956</td>\n",
       "      <td>1.897232</td>\n",
       "      <td>1.939269</td>\n",
       "      <td>1.106538</td>\n",
       "      <td>1.201400</td>\n",
       "      <td>0.003555</td>\n",
       "      <td>0.607975</td>\n",
       "      <td>1.848158</td>\n",
       "      <td>1.742853</td>\n",
       "      <td>1.165154</td>\n",
       "      <td>1</td>\n",
       "    </tr>\n",
       "    <tr>\n",
       "      <th>1114</th>\n",
       "      <td>1.949147</td>\n",
       "      <td>1.286476</td>\n",
       "      <td>1.603102</td>\n",
       "      <td>0.709869</td>\n",
       "      <td>1.012912</td>\n",
       "      <td>2.160936</td>\n",
       "      <td>1.942191</td>\n",
       "      <td>1.717466</td>\n",
       "      <td>2.897848</td>\n",
       "      <td>2.778681</td>\n",
       "      <td>1</td>\n",
       "    </tr>\n",
       "  </tbody>\n",
       "</table>\n",
       "<p>1115 rows × 11 columns</p>\n",
       "</div>"
      ],
      "text/plain": [
       "            GS        FG       FGA        2P       2PA       AST       TOV  \\\n",
       "0    -0.722867 -0.586508 -0.750066 -0.232221 -0.279581 -0.799192 -0.503871   \n",
       "1    -0.869279 -1.360132 -1.264204 -1.174310 -1.033536 -0.899535 -1.282163   \n",
       "2     1.253691 -0.057186 -0.433674  0.412367  0.151250 -0.096789  0.163237   \n",
       "3     1.473309  1.490061  0.990092  2.296546  2.063063  1.659219  1.608637   \n",
       "4    -0.027411  0.797871  0.772572  0.858620  0.959058 -0.096789 -0.170317   \n",
       "...        ...       ...       ...       ...       ...       ...       ...   \n",
       "1110  2.095559  1.652929  2.057916  1.205706  1.659158  1.006988  2.386929   \n",
       "1111  1.839338  1.530778  1.306484  2.346130  2.466967 -0.297475  0.163237   \n",
       "1112  2.095559  1.367910  1.108739  2.147795  2.224624 -0.648677  0.830345   \n",
       "1113  2.058956  1.897232  1.939269  1.106538  1.201400  0.003555  0.607975   \n",
       "1114  1.949147  1.286476  1.603102  0.709869  1.012912  2.160936  1.942191   \n",
       "\n",
       "           PTS        WS      VORP  All-NBA?  \n",
       "0    -0.634993 -0.406723 -0.771077         0  \n",
       "1    -1.317497 -0.855888 -0.512913         0  \n",
       "2    -0.257438  0.459524 -0.125667         0  \n",
       "3     1.354432  1.999518  1.875106         0  \n",
       "4     0.599322 -0.470890 -0.319290         0  \n",
       "...        ...       ...       ...       ...  \n",
       "1110  1.993371  2.127851  2.714139         1  \n",
       "1111  1.252782  2.416600  1.165154         1  \n",
       "1112  0.991398  1.550353  0.842449         1  \n",
       "1113  1.848158  1.742853  1.165154         1  \n",
       "1114  1.717466  2.897848  2.778681         1  \n",
       "\n",
       "[1115 rows x 11 columns]"
      ]
     },
     "execution_count": 866,
     "metadata": {},
     "output_type": "execute_result"
    }
   ],
   "source": [
    "df"
   ]
  },
  {
   "cell_type": "code",
   "execution_count": 867,
   "metadata": {},
   "outputs": [],
   "source": [
    "from torch.utils.data import Dataset\n",
    "\n",
    "class CustomDataset(Dataset):\n",
    "    def __init__(self, data, labels):\n",
    "        self.data = data\n",
    "        self.labels = labels\n",
    "\n",
    "    def __len__(self):\n",
    "        return len(self.data)\n",
    "\n",
    "    def __getitem__(self, idx):\n",
    "        input_sample = self.data[idx]     # Replace with your input feature data\n",
    "        target_sample = self.labels[idx]  # Replace with your target label data\n",
    "\n",
    "        return {'input': input_sample, 'target': target_sample}\n"
   ]
  },
  {
   "attachments": {},
   "cell_type": "markdown",
   "metadata": {},
   "source": [
    "Seperate target variable from features and convert to tensors."
   ]
  },
  {
   "cell_type": "code",
   "execution_count": 868,
   "metadata": {},
   "outputs": [],
   "source": [
    "from torch.utils.data import DataLoader, random_split, TensorDataset\n",
    "\n",
    "X = df[['GS', 'FG', 'FGA', '2P', '2PA', 'AST', 'TOV', 'PTS', 'WS', 'VORP']].values  \n",
    "Y = df[['All-NBA?']].values  \n",
    "\n",
    "# Convert NumPy arrays to PyTorch tensors\n",
    "X = torch.tensor(X, dtype=torch.float32)\n",
    "Y = torch.tensor(Y, dtype=torch.float32)"
   ]
  },
  {
   "attachments": {},
   "cell_type": "markdown",
   "metadata": {},
   "source": [
    "Perform train-test data split and create dataloaders."
   ]
  },
  {
   "cell_type": "code",
   "execution_count": 869,
   "metadata": {},
   "outputs": [],
   "source": [
    "dataset = TensorDataset(X, Y)\n",
    "\n",
    "train_ratio = 0.7\n",
    "test_ratio = 1.0 - train_ratio\n",
    "\n",
    "num_samples = len(dataset)\n",
    "train_size = int(train_ratio * num_samples)\n",
    "test_size = num_samples - train_size\n",
    "\n",
    "train_dataset, test_dataset = random_split(dataset, [train_size, test_size])\n",
    "\n",
    "X_train, Y_train = train_dataset.dataset[train_dataset.indices]\n",
    "X_test, Y_test = test_dataset.dataset[test_dataset.indices]\n",
    "\n",
    "batch_size = 64\n",
    "train_dataloader = DataLoader(train_dataset, batch_size=batch_size, shuffle=True)\n",
    "test_dataloader = DataLoader(test_dataset, batch_size=batch_size, shuffle=False)"
   ]
  },
  {
   "attachments": {},
   "cell_type": "markdown",
   "metadata": {},
   "source": [
    "## Defining the Model\n",
    "\n",
    "We'll use a sequential neural network with 2 hidden layers and a sigmoid activation function for the output layer for the binary classification. Binary Cross Entropy Loss is the used loss function, while adam is the optimizer algorithm."
   ]
  },
  {
   "cell_type": "code",
   "execution_count": 870,
   "metadata": {},
   "outputs": [],
   "source": [
    "import torch.optim as optim\n",
    "model = nn.Sequential(\n",
    "    nn.Linear(len(features_df.columns), 32),\n",
    "    nn.ReLU(),  \n",
    "    nn.Linear(32, 16),\n",
    "    nn.ReLU(), \n",
    "    nn.Linear(16, 1),\n",
    "    nn.Sigmoid(),  \n",
    ")\n",
    "\n",
    "criterion = nn.BCELoss()\n",
    "optimizer = optim.Adam(model.parameters(), lr = 0.001)\n"
   ]
  },
  {
   "attachments": {},
   "cell_type": "markdown",
   "metadata": {},
   "source": [
    "## Training Neural Network\n",
    "\n",
    "Perform forward propagation and back propagation when training neural network."
   ]
  },
  {
   "cell_type": "code",
   "execution_count": 871,
   "metadata": {},
   "outputs": [
    {
     "name": "stdout",
     "output_type": "stream",
     "text": [
      "Epoch [1/100], Training Loss: 0.5955\n",
      "Epoch [2/100], Training Loss: 0.5283\n",
      "Epoch [3/100], Training Loss: 0.4519\n",
      "Epoch [4/100], Training Loss: 0.3743\n",
      "Epoch [5/100], Training Loss: 0.2976\n",
      "Epoch [6/100], Training Loss: 0.2400\n",
      "Epoch [7/100], Training Loss: 0.1994\n",
      "Epoch [8/100], Training Loss: 0.1677\n",
      "Epoch [9/100], Training Loss: 0.1447\n",
      "Epoch [10/100], Training Loss: 0.1247\n",
      "Epoch [11/100], Training Loss: 0.1210\n",
      "Epoch [12/100], Training Loss: 0.1146\n",
      "Epoch [13/100], Training Loss: 0.0923\n",
      "Epoch [14/100], Training Loss: 0.0808\n",
      "Epoch [15/100], Training Loss: 0.0729\n",
      "Epoch [16/100], Training Loss: 0.0721\n",
      "Epoch [17/100], Training Loss: 0.0671\n",
      "Epoch [18/100], Training Loss: 0.0653\n",
      "Epoch [19/100], Training Loss: 0.0579\n",
      "Epoch [20/100], Training Loss: 0.0548\n",
      "Epoch [21/100], Training Loss: 0.0534\n",
      "Epoch [22/100], Training Loss: 0.0511\n",
      "Epoch [23/100], Training Loss: 0.0532\n",
      "Epoch [24/100], Training Loss: 0.0531\n",
      "Epoch [25/100], Training Loss: 0.0468\n",
      "Epoch [26/100], Training Loss: 0.0465\n",
      "Epoch [27/100], Training Loss: 0.0535\n",
      "Epoch [28/100], Training Loss: 0.0483\n",
      "Epoch [29/100], Training Loss: 0.0555\n",
      "Epoch [30/100], Training Loss: 0.0458\n",
      "Epoch [31/100], Training Loss: 0.0556\n",
      "Epoch [32/100], Training Loss: 0.0474\n",
      "Epoch [33/100], Training Loss: 0.0427\n",
      "Epoch [34/100], Training Loss: 0.0424\n",
      "Epoch [35/100], Training Loss: 0.0417\n",
      "Epoch [36/100], Training Loss: 0.0427\n",
      "Epoch [37/100], Training Loss: 0.0408\n",
      "Epoch [38/100], Training Loss: 0.0403\n",
      "Epoch [39/100], Training Loss: 0.0509\n",
      "Epoch [40/100], Training Loss: 0.0435\n",
      "Epoch [41/100], Training Loss: 0.0392\n",
      "Epoch [42/100], Training Loss: 0.0417\n",
      "Epoch [43/100], Training Loss: 0.0402\n",
      "Epoch [44/100], Training Loss: 0.0392\n",
      "Epoch [45/100], Training Loss: 0.0425\n",
      "Epoch [46/100], Training Loss: 0.0464\n",
      "Epoch [47/100], Training Loss: 0.0401\n",
      "Epoch [48/100], Training Loss: 0.0389\n",
      "Epoch [49/100], Training Loss: 0.0431\n",
      "Epoch [50/100], Training Loss: 0.0389\n",
      "Epoch [51/100], Training Loss: 0.0393\n",
      "Epoch [52/100], Training Loss: 0.0392\n",
      "Epoch [53/100], Training Loss: 0.0372\n",
      "Epoch [54/100], Training Loss: 0.0374\n",
      "Epoch [55/100], Training Loss: 0.0373\n",
      "Epoch [56/100], Training Loss: 0.0370\n",
      "Epoch [57/100], Training Loss: 0.0365\n",
      "Epoch [58/100], Training Loss: 0.0361\n",
      "Epoch [59/100], Training Loss: 0.0367\n",
      "Epoch [60/100], Training Loss: 0.0368\n",
      "Epoch [61/100], Training Loss: 0.0356\n",
      "Epoch [62/100], Training Loss: 0.0424\n",
      "Epoch [63/100], Training Loss: 0.0363\n",
      "Epoch [64/100], Training Loss: 0.0361\n",
      "Epoch [65/100], Training Loss: 0.0351\n",
      "Epoch [66/100], Training Loss: 0.0459\n",
      "Epoch [67/100], Training Loss: 0.0439\n",
      "Epoch [68/100], Training Loss: 0.0386\n",
      "Epoch [69/100], Training Loss: 0.0372\n",
      "Epoch [70/100], Training Loss: 0.0343\n",
      "Epoch [71/100], Training Loss: 0.0345\n",
      "Epoch [72/100], Training Loss: 0.0346\n",
      "Epoch [73/100], Training Loss: 0.0423\n",
      "Epoch [74/100], Training Loss: 0.0382\n",
      "Epoch [75/100], Training Loss: 0.0349\n",
      "Epoch [76/100], Training Loss: 0.0347\n",
      "Epoch [77/100], Training Loss: 0.0339\n",
      "Epoch [78/100], Training Loss: 0.0357\n",
      "Epoch [79/100], Training Loss: 0.0362\n",
      "Epoch [80/100], Training Loss: 0.0345\n",
      "Epoch [81/100], Training Loss: 0.0344\n",
      "Epoch [82/100], Training Loss: 0.0335\n",
      "Epoch [83/100], Training Loss: 0.0405\n",
      "Epoch [84/100], Training Loss: 0.0372\n",
      "Epoch [85/100], Training Loss: 0.0423\n",
      "Epoch [86/100], Training Loss: 0.0337\n",
      "Epoch [87/100], Training Loss: 0.0356\n",
      "Epoch [88/100], Training Loss: 0.0329\n",
      "Epoch [89/100], Training Loss: 0.0523\n",
      "Epoch [90/100], Training Loss: 0.0367\n",
      "Epoch [91/100], Training Loss: 0.0333\n",
      "Epoch [92/100], Training Loss: 0.0327\n",
      "Epoch [93/100], Training Loss: 0.0342\n",
      "Epoch [94/100], Training Loss: 0.0318\n",
      "Epoch [95/100], Training Loss: 0.0315\n",
      "Epoch [96/100], Training Loss: 0.0369\n",
      "Epoch [97/100], Training Loss: 0.0328\n",
      "Epoch [98/100], Training Loss: 0.0353\n",
      "Epoch [99/100], Training Loss: 0.0324\n",
      "Epoch [100/100], Training Loss: 0.0394\n"
     ]
    }
   ],
   "source": [
    "num_epochs = 100\n",
    "\n",
    "\n",
    "for epoch in range(num_epochs):\n",
    "    model.train()  \n",
    "    total_loss = 0.0\n",
    "\n",
    "    for inputs, labels in train_dataloader:  \n",
    "        \n",
    "        optimizer.zero_grad()\n",
    "\n",
    "        outputs = model(inputs)\n",
    "\n",
    "        loss = criterion(outputs, labels)\n",
    "\n",
    "        loss.backward()\n",
    "        optimizer.step()\n",
    "\n",
    "        total_loss += loss.item()\n",
    "\n",
    "    average_loss = total_loss / len(train_dataloader)\n",
    "\n",
    "    print(f'Epoch [{epoch+1}/{num_epochs}], Training Loss: {average_loss:.4f}')\n"
   ]
  },
  {
   "attachments": {},
   "cell_type": "markdown",
   "metadata": {},
   "source": [
    "## Testing neural network on testing dataset\n",
    "\n",
    "Evaluate performance on testing dataset."
   ]
  },
  {
   "cell_type": "code",
   "execution_count": 872,
   "metadata": {},
   "outputs": [
    {
     "name": "stdout",
     "output_type": "stream",
     "text": [
      "Test Loss: 0.0520\n",
      "Accuracy: 97.01%\n"
     ]
    }
   ],
   "source": [
    "model.eval()  \n",
    "test_loss = 0.0\n",
    "correct_predictions = 0\n",
    "total_samples = 0\n",
    "\n",
    "true_labels = []\n",
    "pred_labels = []\n",
    "with torch.no_grad():\n",
    "    for inputs, labels in test_dataloader:  \n",
    "        outputs = model(inputs)\n",
    "        true_labels.append(labels.cpu().numpy())\n",
    "        pred_labels.append(outputs.cpu().numpy())\n",
    "\n",
    "        loss = criterion(outputs, labels)\n",
    "\n",
    "        test_loss += loss.item()\n",
    "\n",
    "        predicted_classes = (outputs >= 0.7).float()  \n",
    "        correct_predictions += (predicted_classes == labels).sum().item()\n",
    "        total_samples += labels.size(0)\n",
    "\n",
    "true_labels = np.concatenate(true_labels)\n",
    "pred_labels = np.concatenate(pred_labels)\n",
    "\n",
    "\n",
    "average_test_loss = test_loss / len(test_dataloader)\n",
    "accuracy = correct_predictions / total_samples\n",
    "\n",
    "print(f'Test Loss: {average_test_loss:.4f}')\n",
    "print(f'Accuracy: {accuracy * 100:.2f}%')\n"
   ]
  },
  {
   "attachments": {},
   "cell_type": "markdown",
   "metadata": {},
   "source": [
    "## Visualization for Performance\n",
    "\n",
    "We'll use a confusion matrix to visualize performance. In this case, the order of the confusion matrix is TP, FP, FN, TN.\n",
    "\n",
    "TP (True Positive): When prediction is 1 and the true output is 1. <br>\n",
    "FP (False Positive): When prediction is 1 and the true output is 0. <br>\n",
    "TN (True Negative): When prediction is 0 and the true output is 0. <br>\n",
    "FN (False Negative): When prediction is 0 and the true output is 1. <br>"
   ]
  },
  {
   "cell_type": "code",
   "execution_count": 873,
   "metadata": {},
   "outputs": [
    {
     "name": "stdout",
     "output_type": "stream",
     "text": [
      "[[ 23   9]\n",
      " [  1 302]]\n"
     ]
    }
   ],
   "source": [
    "from sklearn.metrics import confusion_matrix\n",
    "\n",
    "threshold = 0.7\n",
    "\n",
    "pred_labels = (pred_labels >= threshold).astype(int)\n",
    "\n",
    "conf_mtx = confusion_matrix(true_labels, pred_labels, labels = [1,0])\n",
    "print(conf_mtx)"
   ]
  },
  {
   "cell_type": "code",
   "execution_count": 874,
   "metadata": {},
   "outputs": [
    {
     "data": {
      "text/plain": [
       "<Axes: >"
      ]
     },
     "execution_count": 874,
     "metadata": {},
     "output_type": "execute_result"
    },
    {
     "data": {
      "image/png": "[encoded data removed]",
      "text/plain": [
       "<Figure size 640x480 with 2 Axes>"
      ]
     },
     "metadata": {},
     "output_type": "display_data"
    }
   ],
   "source": [
    "import seaborn as sns \n",
    "plt.xlabel(\"\")\n",
    "sns.heatmap(conf_mtx, annot = True, cmap = \"Greens\")"
   ]
  },
  {
   "cell_type": "code",
   "execution_count": 875,
   "metadata": {},
   "outputs": [
    {
     "name": "stdout",
     "output_type": "stream",
     "text": [
      "23 1 302 9\n"
     ]
    }
   ],
   "source": [
    "TP = conf_mtx[0][0]\n",
    "FP = conf_mtx[1][0]\n",
    "TN = conf_mtx[1][1]\n",
    "FN = conf_mtx[0][1]\n",
    "\n",
    "print(TP, FP, TN, FN)"
   ]
  },
  {
   "attachments": {},
   "cell_type": "markdown",
   "metadata": {},
   "source": [
    "## Evaluation Metrics\n",
    "\n",
    "Precision is calculated as follows: $$ \\frac{TP}{(TP + FP)} $$\n",
    "\n",
    "Recall is calculated as follows: $$ \\frac{TP}{(TP + FN)} $$\n",
    "\n",
    "f1Score is calculated as follows: $$ \\frac{Precision * Recall}{(Precision + Recall)} $$ "
   ]
  },
  {
   "cell_type": "code",
   "execution_count": 876,
   "metadata": {},
   "outputs": [
    {
     "name": "stdout",
     "output_type": "stream",
     "text": [
      "Precision: 0.9583333333333334\n",
      "Recall: 0.71875\n",
      "f1score: 0.4107142857142857\n"
     ]
    }
   ],
   "source": [
    "precision = TP / (TP + FP)\n",
    "recall = TP / (TP + FN)\n",
    "f1score = (precision * recall) / (precision + recall)\n",
    "\n",
    "print(f'Precision: {precision}')\n",
    "print(f'Recall: {recall}')\n",
    "print(f'f1score: {f1score}')\n"
   ]
  }
 ],
 "metadata": {
  "kernelspec": {
   "display_name": "Python 3.8.8 ('base')",
   "language": "python",
   "name": "python3"
  },
  "language_info": {
   "codemirror_mode": {
    "name": "ipython",
    "version": 3
   },
   "file_extension": ".py",
   "mimetype": "text/x-python",
   "name": "python",
   "nbconvert_exporter": "python",
   "pygments_lexer": "ipython3",
   "version": "3.10.0"
  },
  "orig_nbformat": 4,
  "vscode": {
   "interpreter": {
    "hash": "c47e47cda05e9886a0f1932160b1f70f95aa1d71424dff224d867803480b36f1"
   }
  }
 },
 "nbformat": 4,
 "nbformat_minor": 2
}
