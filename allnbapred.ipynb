{
 "cells": [
  {
   "attachments": {},
   "cell_type": "markdown",
   "metadata": {},
   "source": [
    "# All-NBA Team Binary Classification Model\n",
    "\n",
    "Will use various classification algorithms(logisitic regression, KNN, SVM, etc) and evaluate performance on dataset."
   ]
  },
  {
   "cell_type": "code",
   "execution_count": 142,
   "metadata": {},
   "outputs": [],
   "source": [
    "import pandas as pd\n",
    "import numpy as np \n",
    "import torch\n",
    "from torch import nn\n",
    "from torchvision import transforms\n",
    "import matplotlib.pyplot as plt\n",
    "from mpl_toolkits import mplot3d\n",
    "import sklearn\n",
    "from sklearn import *\n",
    "from sklearn.metrics import *\n",
    "import pickle"
   ]
  },
  {
   "attachments": {},
   "cell_type": "markdown",
   "metadata": {},
   "source": [
    "## Load and analyze dataset\n",
    "\n",
    "Preview features (player, games started, minutes played, etc.) and training examples (the players)."
   ]
  },
  {
   "cell_type": "code",
   "execution_count": 143,
   "metadata": {},
   "outputs": [
    {
     "data": {
      "text/html": [
       "<div>\n",
       "<style scoped>\n",
       "    .dataframe tbody tr th:only-of-type {\n",
       "        vertical-align: middle;\n",
       "    }\n",
       "\n",
       "    .dataframe tbody tr th {\n",
       "        vertical-align: top;\n",
       "    }\n",
       "\n",
       "    .dataframe thead th {\n",
       "        text-align: right;\n",
       "    }\n",
       "</style>\n",
       "<table border=\"1\" class=\"dataframe\">\n",
       "  <thead>\n",
       "    <tr style=\"text-align: right;\">\n",
       "      <th></th>\n",
       "      <th>Player</th>\n",
       "      <th>G</th>\n",
       "      <th>GPnS%</th>\n",
       "      <th>GPnSround%</th>\n",
       "      <th>GS</th>\n",
       "      <th>MP</th>\n",
       "      <th>FG</th>\n",
       "      <th>FGA</th>\n",
       "      <th>FG%</th>\n",
       "      <th>3P</th>\n",
       "      <th>...</th>\n",
       "      <th>STL</th>\n",
       "      <th>BLK</th>\n",
       "      <th>TOV</th>\n",
       "      <th>PF</th>\n",
       "      <th>PTS</th>\n",
       "      <th>PER</th>\n",
       "      <th>WS</th>\n",
       "      <th>BPM</th>\n",
       "      <th>VORP</th>\n",
       "      <th>All-NBA?</th>\n",
       "    </tr>\n",
       "  </thead>\n",
       "  <tbody>\n",
       "    <tr>\n",
       "      <th>0</th>\n",
       "      <td>Precious Achiuwa</td>\n",
       "      <td>61</td>\n",
       "      <td>0.055556</td>\n",
       "      <td>0.0556</td>\n",
       "      <td>4</td>\n",
       "      <td>12.1</td>\n",
       "      <td>2.0</td>\n",
       "      <td>3.7</td>\n",
       "      <td>0.544</td>\n",
       "      <td>0.0</td>\n",
       "      <td>...</td>\n",
       "      <td>0.3</td>\n",
       "      <td>0.5</td>\n",
       "      <td>0.7</td>\n",
       "      <td>1.5</td>\n",
       "      <td>5.0</td>\n",
       "      <td>14.2</td>\n",
       "      <td>1.3</td>\n",
       "      <td>-4.5</td>\n",
       "      <td>-0.5</td>\n",
       "      <td>0</td>\n",
       "    </tr>\n",
       "    <tr>\n",
       "      <th>1</th>\n",
       "      <td>Jaylen Adams</td>\n",
       "      <td>7</td>\n",
       "      <td>0.000000</td>\n",
       "      <td>0.0000</td>\n",
       "      <td>0</td>\n",
       "      <td>2.6</td>\n",
       "      <td>0.1</td>\n",
       "      <td>1.1</td>\n",
       "      <td>0.125</td>\n",
       "      <td>0.0</td>\n",
       "      <td>...</td>\n",
       "      <td>0.0</td>\n",
       "      <td>0.0</td>\n",
       "      <td>0.0</td>\n",
       "      <td>0.1</td>\n",
       "      <td>0.3</td>\n",
       "      <td>-6.5</td>\n",
       "      <td>-0.1</td>\n",
       "      <td>-19.8</td>\n",
       "      <td>-0.1</td>\n",
       "      <td>0</td>\n",
       "    </tr>\n",
       "    <tr>\n",
       "      <th>2</th>\n",
       "      <td>Steven Adams</td>\n",
       "      <td>58</td>\n",
       "      <td>0.805556</td>\n",
       "      <td>0.8056</td>\n",
       "      <td>58</td>\n",
       "      <td>27.7</td>\n",
       "      <td>3.3</td>\n",
       "      <td>5.3</td>\n",
       "      <td>0.614</td>\n",
       "      <td>0.0</td>\n",
       "      <td>...</td>\n",
       "      <td>0.9</td>\n",
       "      <td>0.7</td>\n",
       "      <td>1.3</td>\n",
       "      <td>1.9</td>\n",
       "      <td>7.6</td>\n",
       "      <td>15.1</td>\n",
       "      <td>4.0</td>\n",
       "      <td>-0.8</td>\n",
       "      <td>0.5</td>\n",
       "      <td>0</td>\n",
       "    </tr>\n",
       "    <tr>\n",
       "      <th>3</th>\n",
       "      <td>Bam Adebayo</td>\n",
       "      <td>64</td>\n",
       "      <td>0.888889</td>\n",
       "      <td>0.8889</td>\n",
       "      <td>64</td>\n",
       "      <td>33.5</td>\n",
       "      <td>7.1</td>\n",
       "      <td>12.5</td>\n",
       "      <td>0.570</td>\n",
       "      <td>0.0</td>\n",
       "      <td>...</td>\n",
       "      <td>1.2</td>\n",
       "      <td>1.0</td>\n",
       "      <td>2.6</td>\n",
       "      <td>2.3</td>\n",
       "      <td>18.7</td>\n",
       "      <td>22.7</td>\n",
       "      <td>8.8</td>\n",
       "      <td>4.7</td>\n",
       "      <td>3.6</td>\n",
       "      <td>0</td>\n",
       "    </tr>\n",
       "    <tr>\n",
       "      <th>4</th>\n",
       "      <td>LaMarcus Aldridge</td>\n",
       "      <td>26</td>\n",
       "      <td>0.319444</td>\n",
       "      <td>0.3194</td>\n",
       "      <td>23</td>\n",
       "      <td>25.9</td>\n",
       "      <td>5.4</td>\n",
       "      <td>11.4</td>\n",
       "      <td>0.473</td>\n",
       "      <td>1.2</td>\n",
       "      <td>...</td>\n",
       "      <td>0.4</td>\n",
       "      <td>1.1</td>\n",
       "      <td>1.0</td>\n",
       "      <td>1.8</td>\n",
       "      <td>13.5</td>\n",
       "      <td>15.7</td>\n",
       "      <td>1.1</td>\n",
       "      <td>-0.6</td>\n",
       "      <td>0.2</td>\n",
       "      <td>0</td>\n",
       "    </tr>\n",
       "  </tbody>\n",
       "</table>\n",
       "<p>5 rows × 28 columns</p>\n",
       "</div>"
      ],
      "text/plain": [
       "              Player   G     GPnS%  GPnSround%  GS    MP   FG   FGA    FG%  \\\n",
       "0   Precious Achiuwa  61  0.055556      0.0556   4  12.1  2.0   3.7  0.544   \n",
       "1       Jaylen Adams   7  0.000000      0.0000   0   2.6  0.1   1.1  0.125   \n",
       "2       Steven Adams  58  0.805556      0.8056  58  27.7  3.3   5.3  0.614   \n",
       "3        Bam Adebayo  64  0.888889      0.8889  64  33.5  7.1  12.5  0.570   \n",
       "4  LaMarcus Aldridge  26  0.319444      0.3194  23  25.9  5.4  11.4  0.473   \n",
       "\n",
       "    3P  ...  STL  BLK  TOV   PF   PTS   PER   WS   BPM  VORP  All-NBA?  \n",
       "0  0.0  ...  0.3  0.5  0.7  1.5   5.0  14.2  1.3  -4.5  -0.5         0  \n",
       "1  0.0  ...  0.0  0.0  0.0  0.1   0.3  -6.5 -0.1 -19.8  -0.1         0  \n",
       "2  0.0  ...  0.9  0.7  1.3  1.9   7.6  15.1  4.0  -0.8   0.5         0  \n",
       "3  0.0  ...  1.2  1.0  2.6  2.3  18.7  22.7  8.8   4.7   3.6         0  \n",
       "4  1.2  ...  0.4  1.1  1.0  1.8  13.5  15.7  1.1  -0.6   0.2         0  \n",
       "\n",
       "[5 rows x 28 columns]"
      ]
     },
     "execution_count": 143,
     "metadata": {},
     "output_type": "execute_result"
    }
   ],
   "source": [
    "DATADIR = \"DataSet.csv\"\n",
    "df = pd.read_csv(DATADIR) # read dataset\n",
    "df.head() # preview first few features and rows"
   ]
  },
  {
   "attachments": {},
   "cell_type": "markdown",
   "metadata": {},
   "source": [
    "Look at list of all features."
   ]
  },
  {
   "cell_type": "code",
   "execution_count": 144,
   "metadata": {},
   "outputs": [
    {
     "data": {
      "text/plain": [
       "Index(['Player', 'G', 'GPnS%', 'GPnSround%', 'GS', 'MP', 'FG', 'FGA', 'FG%',\n",
       "       '3P', '3PA', '3P%', '2P', '2PA', '2P%', 'eFG%', 'TRB', 'AST', 'STL',\n",
       "       'BLK', 'TOV', 'PF', 'PTS', 'PER', 'WS', 'BPM', 'VORP', 'All-NBA?'],\n",
       "      dtype='object')"
      ]
     },
     "execution_count": 144,
     "metadata": {},
     "output_type": "execute_result"
    }
   ],
   "source": [
    "df.columns # list of columns"
   ]
  },
  {
   "attachments": {},
   "cell_type": "markdown",
   "metadata": {},
   "source": [
    "Remove player column from dataset and store it in numpy array."
   ]
  },
  {
   "cell_type": "code",
   "execution_count": 145,
   "metadata": {},
   "outputs": [],
   "source": [
    "players = df.pop('Player') # remove Player column from dataSet and store in players\n",
    "players = np.array(players) # cast players from list into numpy array"
   ]
  },
  {
   "attachments": {},
   "cell_type": "markdown",
   "metadata": {},
   "source": [
    "Examine players numpy array."
   ]
  },
  {
   "cell_type": "code",
   "execution_count": 146,
   "metadata": {},
   "outputs": [
    {
     "data": {
      "text/plain": [
       "array(['Precious Achiuwa', 'Jaylen Adams', 'Steven Adams', ...,\n",
       "       'Andre Drummond', 'Klay Thompson', 'Kyle Lowry'], dtype=object)"
      ]
     },
     "execution_count": 146,
     "metadata": {},
     "output_type": "execute_result"
    }
   ],
   "source": [
    "players"
   ]
  },
  {
   "attachments": {},
   "cell_type": "markdown",
   "metadata": {},
   "source": [
    "## Find correlation between features and target variable\n",
    "\n",
    "Use a correlation matrix to determine the features with the strongest correlation to the target variable (All-NBA?). Look at the leftmost and rightmost column to analyze strongest features."
   ]
  },
  {
   "cell_type": "code",
   "execution_count": 147,
   "metadata": {},
   "outputs": [
    {
     "data": {
      "text/plain": [
       "G             0.275890\n",
       "GPnS%         0.454324\n",
       "GPnSround%    0.454319\n",
       "GS            0.471530\n",
       "MP            0.402598\n",
       "FG            0.551768\n",
       "FGA           0.524672\n",
       "FG%           0.127382\n",
       "3P            0.297344\n",
       "3PA           0.297626\n",
       "3P%           0.061744\n",
       "2P            0.540380\n",
       "2PA           0.532232\n",
       "2P%           0.087835\n",
       "eFG%          0.100872\n",
       "TRB           0.418248\n",
       "AST           0.475572\n",
       "STL           0.435999\n",
       "BLK           0.274642\n",
       "TOV           0.535496\n",
       "PF            0.219371\n",
       "PTS           0.581269\n",
       "PER           0.420605\n",
       "WS            0.703642\n",
       "BPM           0.382282\n",
       "VORP          0.779935\n",
       "All-NBA?      1.000000\n",
       "dtype: float64"
      ]
     },
     "execution_count": 147,
     "metadata": {},
     "output_type": "execute_result"
    }
   ],
   "source": [
    "# dataSet.corr()    this prints the correlation matrix for all other features\n",
    "df.corrwith(df[\"All-NBA?\"])"
   ]
  },
  {
   "attachments": {},
   "cell_type": "markdown",
   "metadata": {},
   "source": [
    "## Feature Selection\n",
    "\n",
    "Choose features based on strongest correlation with target variable."
   ]
  },
  {
   "cell_type": "code",
   "execution_count": 148,
   "metadata": {},
   "outputs": [],
   "source": [
    "# include all rows and only the listed colums\n",
    "df = df.loc[:, [\"GS\", \"FG\", \"FGA\", \"2P\", \"2PA\", \"AST\", \n",
    "                \"TOV\", \"PTS\", \"WS\", \"VORP\", \"All-NBA?\"]] "
   ]
  },
  {
   "attachments": {},
   "cell_type": "markdown",
   "metadata": {},
   "source": [
    "## Feature Engineering\n",
    "\n",
    "Develop new features based on existing features. For example, the AST/TOV ratio is a commonly used statistic in evaluating the playmaking ability of a player."
   ]
  },
  {
   "cell_type": "code",
   "execution_count": 149,
   "metadata": {},
   "outputs": [],
   "source": [
    "df['AST/TOV'] = df.apply(lambda x: x['AST'] / x['TOV'] if x['TOV'] != 0 else 1, axis = 1)"
   ]
  },
  {
   "cell_type": "code",
   "execution_count": 150,
   "metadata": {},
   "outputs": [
    {
     "data": {
      "text/plain": [
       "0       0.714286\n",
       "1       1.000000\n",
       "2       1.461538\n",
       "3       2.076923\n",
       "4       1.900000\n",
       "          ...   \n",
       "1110    1.242424\n",
       "1111    1.153846\n",
       "1112    0.421053\n",
       "1113    1.235294\n",
       "1114    2.206897\n",
       "Name: AST/TOV, Length: 1115, dtype: float64"
      ]
     },
     "execution_count": 150,
     "metadata": {},
     "output_type": "execute_result"
    }
   ],
   "source": [
    "df['AST/TOV']"
   ]
  },
  {
   "cell_type": "code",
   "execution_count": 151,
   "metadata": {},
   "outputs": [
    {
     "data": {
      "text/plain": [
       "GS          0.471530\n",
       "FG          0.551768\n",
       "FGA         0.524672\n",
       "2P          0.540380\n",
       "2PA         0.532232\n",
       "AST         0.475572\n",
       "TOV         0.535496\n",
       "PTS         0.581269\n",
       "WS          0.703642\n",
       "VORP        0.779935\n",
       "All-NBA?    1.000000\n",
       "AST/TOV     0.024009\n",
       "dtype: float64"
      ]
     },
     "execution_count": 151,
     "metadata": {},
     "output_type": "execute_result"
    }
   ],
   "source": [
    "df.corrwith(df['All-NBA?'])"
   ]
  },
  {
   "attachments": {},
   "cell_type": "markdown",
   "metadata": {},
   "source": [
    "AST/TOV doesn't have a strong positive correlation with making an All-NBA team, so we'll discard it."
   ]
  },
  {
   "cell_type": "code",
   "execution_count": 152,
   "metadata": {},
   "outputs": [
    {
     "data": {
      "text/html": [
       "<div>\n",
       "<style scoped>\n",
       "    .dataframe tbody tr th:only-of-type {\n",
       "        vertical-align: middle;\n",
       "    }\n",
       "\n",
       "    .dataframe tbody tr th {\n",
       "        vertical-align: top;\n",
       "    }\n",
       "\n",
       "    .dataframe thead th {\n",
       "        text-align: right;\n",
       "    }\n",
       "</style>\n",
       "<table border=\"1\" class=\"dataframe\">\n",
       "  <thead>\n",
       "    <tr style=\"text-align: right;\">\n",
       "      <th></th>\n",
       "      <th>GS</th>\n",
       "      <th>FG</th>\n",
       "      <th>FGA</th>\n",
       "      <th>2P</th>\n",
       "      <th>2PA</th>\n",
       "      <th>AST</th>\n",
       "      <th>TOV</th>\n",
       "      <th>PTS</th>\n",
       "      <th>WS</th>\n",
       "      <th>VORP</th>\n",
       "      <th>All-NBA?</th>\n",
       "    </tr>\n",
       "  </thead>\n",
       "  <tbody>\n",
       "    <tr>\n",
       "      <th>0</th>\n",
       "      <td>4</td>\n",
       "      <td>2.0</td>\n",
       "      <td>3.7</td>\n",
       "      <td>2.0</td>\n",
       "      <td>3.7</td>\n",
       "      <td>0.5</td>\n",
       "      <td>0.7</td>\n",
       "      <td>5.0</td>\n",
       "      <td>1.3</td>\n",
       "      <td>-0.5</td>\n",
       "      <td>0</td>\n",
       "    </tr>\n",
       "    <tr>\n",
       "      <th>1</th>\n",
       "      <td>0</td>\n",
       "      <td>0.1</td>\n",
       "      <td>1.1</td>\n",
       "      <td>0.1</td>\n",
       "      <td>0.9</td>\n",
       "      <td>0.3</td>\n",
       "      <td>0.0</td>\n",
       "      <td>0.3</td>\n",
       "      <td>-0.1</td>\n",
       "      <td>-0.1</td>\n",
       "      <td>0</td>\n",
       "    </tr>\n",
       "    <tr>\n",
       "      <th>2</th>\n",
       "      <td>58</td>\n",
       "      <td>3.3</td>\n",
       "      <td>5.3</td>\n",
       "      <td>3.3</td>\n",
       "      <td>5.3</td>\n",
       "      <td>1.9</td>\n",
       "      <td>1.3</td>\n",
       "      <td>7.6</td>\n",
       "      <td>4.0</td>\n",
       "      <td>0.5</td>\n",
       "      <td>0</td>\n",
       "    </tr>\n",
       "    <tr>\n",
       "      <th>3</th>\n",
       "      <td>64</td>\n",
       "      <td>7.1</td>\n",
       "      <td>12.5</td>\n",
       "      <td>7.1</td>\n",
       "      <td>12.4</td>\n",
       "      <td>5.4</td>\n",
       "      <td>2.6</td>\n",
       "      <td>18.7</td>\n",
       "      <td>8.8</td>\n",
       "      <td>3.6</td>\n",
       "      <td>0</td>\n",
       "    </tr>\n",
       "    <tr>\n",
       "      <th>4</th>\n",
       "      <td>23</td>\n",
       "      <td>5.4</td>\n",
       "      <td>11.4</td>\n",
       "      <td>4.2</td>\n",
       "      <td>8.3</td>\n",
       "      <td>1.9</td>\n",
       "      <td>1.0</td>\n",
       "      <td>13.5</td>\n",
       "      <td>1.1</td>\n",
       "      <td>0.2</td>\n",
       "      <td>0</td>\n",
       "    </tr>\n",
       "    <tr>\n",
       "      <th>...</th>\n",
       "      <td>...</td>\n",
       "      <td>...</td>\n",
       "      <td>...</td>\n",
       "      <td>...</td>\n",
       "      <td>...</td>\n",
       "      <td>...</td>\n",
       "      <td>...</td>\n",
       "      <td>...</td>\n",
       "      <td>...</td>\n",
       "      <td>...</td>\n",
       "      <td>...</td>\n",
       "    </tr>\n",
       "    <tr>\n",
       "      <th>1110</th>\n",
       "      <td>81</td>\n",
       "      <td>7.5</td>\n",
       "      <td>17.9</td>\n",
       "      <td>4.9</td>\n",
       "      <td>10.9</td>\n",
       "      <td>4.1</td>\n",
       "      <td>3.3</td>\n",
       "      <td>23.1</td>\n",
       "      <td>9.2</td>\n",
       "      <td>4.9</td>\n",
       "      <td>1</td>\n",
       "    </tr>\n",
       "    <tr>\n",
       "      <th>1111</th>\n",
       "      <td>74</td>\n",
       "      <td>7.2</td>\n",
       "      <td>14.1</td>\n",
       "      <td>7.2</td>\n",
       "      <td>13.9</td>\n",
       "      <td>1.5</td>\n",
       "      <td>1.3</td>\n",
       "      <td>18.0</td>\n",
       "      <td>10.1</td>\n",
       "      <td>2.5</td>\n",
       "      <td>1</td>\n",
       "    </tr>\n",
       "    <tr>\n",
       "      <th>1112</th>\n",
       "      <td>81</td>\n",
       "      <td>6.8</td>\n",
       "      <td>13.1</td>\n",
       "      <td>6.8</td>\n",
       "      <td>13.0</td>\n",
       "      <td>0.8</td>\n",
       "      <td>1.9</td>\n",
       "      <td>16.2</td>\n",
       "      <td>7.4</td>\n",
       "      <td>2.0</td>\n",
       "      <td>1</td>\n",
       "    </tr>\n",
       "    <tr>\n",
       "      <th>1113</th>\n",
       "      <td>80</td>\n",
       "      <td>8.1</td>\n",
       "      <td>17.3</td>\n",
       "      <td>4.7</td>\n",
       "      <td>9.2</td>\n",
       "      <td>2.1</td>\n",
       "      <td>1.7</td>\n",
       "      <td>22.1</td>\n",
       "      <td>8.0</td>\n",
       "      <td>2.5</td>\n",
       "      <td>1</td>\n",
       "    </tr>\n",
       "    <tr>\n",
       "      <th>1114</th>\n",
       "      <td>77</td>\n",
       "      <td>6.6</td>\n",
       "      <td>15.6</td>\n",
       "      <td>3.9</td>\n",
       "      <td>8.5</td>\n",
       "      <td>6.4</td>\n",
       "      <td>2.9</td>\n",
       "      <td>21.2</td>\n",
       "      <td>11.6</td>\n",
       "      <td>5.0</td>\n",
       "      <td>1</td>\n",
       "    </tr>\n",
       "  </tbody>\n",
       "</table>\n",
       "<p>1115 rows × 11 columns</p>\n",
       "</div>"
      ],
      "text/plain": [
       "      GS   FG   FGA   2P   2PA  AST  TOV   PTS    WS  VORP  All-NBA?\n",
       "0      4  2.0   3.7  2.0   3.7  0.5  0.7   5.0   1.3  -0.5         0\n",
       "1      0  0.1   1.1  0.1   0.9  0.3  0.0   0.3  -0.1  -0.1         0\n",
       "2     58  3.3   5.3  3.3   5.3  1.9  1.3   7.6   4.0   0.5         0\n",
       "3     64  7.1  12.5  7.1  12.4  5.4  2.6  18.7   8.8   3.6         0\n",
       "4     23  5.4  11.4  4.2   8.3  1.9  1.0  13.5   1.1   0.2         0\n",
       "...   ..  ...   ...  ...   ...  ...  ...   ...   ...   ...       ...\n",
       "1110  81  7.5  17.9  4.9  10.9  4.1  3.3  23.1   9.2   4.9         1\n",
       "1111  74  7.2  14.1  7.2  13.9  1.5  1.3  18.0  10.1   2.5         1\n",
       "1112  81  6.8  13.1  6.8  13.0  0.8  1.9  16.2   7.4   2.0         1\n",
       "1113  80  8.1  17.3  4.7   9.2  2.1  1.7  22.1   8.0   2.5         1\n",
       "1114  77  6.6  15.6  3.9   8.5  6.4  2.9  21.2  11.6   5.0         1\n",
       "\n",
       "[1115 rows x 11 columns]"
      ]
     },
     "execution_count": 152,
     "metadata": {},
     "output_type": "execute_result"
    }
   ],
   "source": [
    "df = df.drop('AST/TOV', axis = 1)\n",
    "df"
   ]
  },
  {
   "attachments": {},
   "cell_type": "markdown",
   "metadata": {},
   "source": [
    "## Feature Scaling\n",
    "\n",
    "Scale features so that they have a uniform range. In this case we'll use Z-score normalization, which uses the following equation: $$ x_{n} = \\frac{x_{n} - \\mu_{n}}{\\sigma_{n}} $$\n",
    "where $ x_n $ is the row of the nth column, $ \\mu_{n} $ is the mean of the nth column, and $ \\sigma_{n} $ is the standard deviation of the nth column."
   ]
  },
  {
   "cell_type": "code",
   "execution_count": 153,
   "metadata": {},
   "outputs": [
    {
     "data": {
      "text/plain": [
       "10"
      ]
     },
     "execution_count": 153,
     "metadata": {},
     "output_type": "execute_result"
    }
   ],
   "source": [
    "features_df = df.drop(\"All-NBA?\", axis = 1)\n",
    "\n",
    "np.save('min_init_values.npy', features_df.min().values)\n",
    "np.save('max_init_values.npy', features_df.max().values)\n",
    "\n",
    "for col in features_df:\n",
    "    df[col] = (df[col] - np.mean(df[col])) / np.std(df[col])\n",
    "len(features_df.columns)"
   ]
  },
  {
   "cell_type": "code",
   "execution_count": 154,
   "metadata": {},
   "outputs": [],
   "source": [
    "np.save('min_values.npy', df.min().values)\n",
    "np.save('max_values.npy', df.max().values)"
   ]
  },
  {
   "cell_type": "code",
   "execution_count": 155,
   "metadata": {},
   "outputs": [
    {
     "data": {
      "text/plain": [
       "array([-0.86927851, -1.40084893, -1.48172392, -1.22389381, -1.27587815,\n",
       "       -1.05004996, -1.28216307, -1.36106089, -1.43338617, -1.73919331,\n",
       "        0.        ])"
      ]
     },
     "execution_count": 155,
     "metadata": {},
     "output_type": "execute_result"
    }
   ],
   "source": [
    "df.min().values"
   ]
  },
  {
   "cell_type": "code",
   "execution_count": 156,
   "metadata": {},
   "outputs": [],
   "source": [
    "from torch.utils.data import Dataset\n",
    "\n",
    "class CustomDataset(Dataset):\n",
    "    def __init__(self, data, labels):\n",
    "        self.data = data\n",
    "        self.labels = labels\n",
    "\n",
    "    def __len__(self):\n",
    "        return len(self.data)\n",
    "\n",
    "    def __getitem__(self, idx):\n",
    "        input_sample = self.data[idx]     # Replace with your input feature data\n",
    "        target_sample = self.labels[idx]  # Replace with your target label data\n",
    "\n",
    "        return {'input': input_sample, 'target': target_sample}\n"
   ]
  },
  {
   "attachments": {},
   "cell_type": "markdown",
   "metadata": {},
   "source": [
    "Seperate target variable from features and convert to tensors."
   ]
  },
  {
   "cell_type": "code",
   "execution_count": 157,
   "metadata": {},
   "outputs": [],
   "source": [
    "from torch.utils.data import DataLoader, random_split, TensorDataset\n",
    "\n",
    "X = df[['GS', 'FG', 'FGA', '2P', '2PA', 'AST', 'TOV', 'PTS', 'WS', 'VORP']].values  \n",
    "Y = df[['All-NBA?']].values  \n",
    "\n",
    "# Convert NumPy arrays to PyTorch tensors\n",
    "X = torch.tensor(X, dtype=torch.float32)\n",
    "Y = torch.tensor(Y, dtype=torch.float32)"
   ]
  },
  {
   "attachments": {},
   "cell_type": "markdown",
   "metadata": {},
   "source": [
    "Perform train-test data split and create dataloaders."
   ]
  },
  {
   "cell_type": "code",
   "execution_count": 158,
   "metadata": {},
   "outputs": [
    {
     "name": "stdout",
     "output_type": "stream",
     "text": [
      "1115 780 335\n"
     ]
    }
   ],
   "source": [
    "dataset = TensorDataset(X, Y)\n",
    "\n",
    "train_ratio = 0.7\n",
    "test_ratio = 0.3\n",
    "\n",
    "num_samples = len(dataset)\n",
    "train_size = int(train_ratio * num_samples)\n",
    "test_size =  num_samples - train_size\n",
    "\n",
    "print(num_samples, train_size, test_size)\n",
    "train_dataset, test_dataset = random_split(dataset, [train_size, test_size])\n",
    "\n",
    "X_train, Y_train = train_dataset.dataset[train_dataset.indices]\n",
    "X_test, Y_test = test_dataset.dataset[test_dataset.indices]\n",
    "\n",
    "batch_size = 64\n",
    "train_dataloader = DataLoader(train_dataset, batch_size=batch_size, shuffle=True)\n",
    "test_dataloader = DataLoader(test_dataset, batch_size=batch_size, shuffle=True)"
   ]
  },
  {
   "attachments": {},
   "cell_type": "markdown",
   "metadata": {},
   "source": [
    "## Defining the Model\n",
    "\n",
    "We'll use a sequential neural network with 2 hidden layers and a sigmoid activation function for the output layer for the binary classification. Binary Cross Entropy Loss is the used loss function, while adam is the optimizer algorithm."
   ]
  },
  {
   "cell_type": "code",
   "execution_count": 159,
   "metadata": {},
   "outputs": [],
   "source": [
    "import torch.nn as nn\n",
    "class CustomModel(nn.Module):\n",
    "    def __init__(self, num_layers, num_neurons, input_size = len(features_df.columns)):\n",
    "        super(CustomModel, self).__init__()\n",
    "        self.layers = [nn.Linear(input_size, num_neurons), nn.ReLU()]\n",
    "\n",
    "        for layer in range(1, num_layers):\n",
    "            self.layers.append(nn.Linear(num_neurons, num_neurons))\n",
    "            self.layers.append(nn.ReLU())\n",
    "        \n",
    "        self.layers.append(nn.Linear(num_neurons, 1))\n",
    "        self.layers.append(nn.Sigmoid())\n",
    "\n",
    "        self.model = nn.Sequential(*self.layers)\n",
    "\n",
    "    def forward(self, x):\n",
    "        return self.model(x)"
   ]
  },
  {
   "cell_type": "code",
   "execution_count": 160,
   "metadata": {},
   "outputs": [
    {
     "name": "stdout",
     "output_type": "stream",
     "text": [
      "Fitting 3 folds for each of 189 candidates, totalling 567 fits\n"
     ]
    }
   ],
   "source": [
    "from sklearn.model_selection import GridSearchCV\n",
    "from skorch import NeuralNetClassifier\n",
    "import torch.optim as optim\n",
    "\n",
    "param_grid = param_grid = {\n",
    "    'module__num_layers': [1, 2, 3, 4, 5, 6, 7],\n",
    "    'module__num_neurons': [64, 32, 16],\n",
    "    'optimizer__lr': [0.001, 0.01, 0.1],\n",
    "    'max_epochs': [10, 50 ,100]\n",
    "}\n",
    "\n",
    "model = NeuralNetClassifier(CustomModel, criterion= nn.BCELoss, optimizer = optim.Adam, verbose = False)\n",
    "grid_search = GridSearchCV(\n",
    "    estimator = model,\n",
    "    param_grid = param_grid,\n",
    "    cv = 3,  # Number of cross-validation folds\n",
    "    scoring = 'f1',  # Evaluation metric\n",
    "    verbose=1,  # Verbosity level\n",
    "    error_score= 'raise'\n",
    ")\n",
    "\n",
    "grid_search.fit(X_train, Y_train)\n",
    "\n",
    "best_model = grid_search.best_estimator_\n",
    "best_params = grid_search.best_params_\n",
    "\n"
   ]
  },
  {
   "cell_type": "code",
   "execution_count": 161,
   "metadata": {},
   "outputs": [
    {
     "data": {
      "text/plain": [
       "0.8884747319233989"
      ]
     },
     "execution_count": 161,
     "metadata": {},
     "output_type": "execute_result"
    }
   ],
   "source": [
    "grid_search.best_score_"
   ]
  },
  {
   "cell_type": "code",
   "execution_count": 162,
   "metadata": {},
   "outputs": [
    {
     "data": {
      "text/plain": [
       "{'max_epochs': 100,\n",
       " 'module__num_layers': 7,\n",
       " 'module__num_neurons': 16,\n",
       " 'optimizer__lr': 0.01}"
      ]
     },
     "execution_count": 162,
     "metadata": {},
     "output_type": "execute_result"
    }
   ],
   "source": [
    "best_params"
   ]
  },
  {
   "cell_type": "code",
   "execution_count": 163,
   "metadata": {},
   "outputs": [],
   "source": [
    "saved_data = {\n",
    "    'best_hyperparameters': best_params,\n",
    "    'model_state_dict': best_model.module_.state_dict()\n",
    "}\n",
    "torch.save(saved_data, 'nbamodel.pt')"
   ]
  },
  {
   "cell_type": "markdown",
   "metadata": {},
   "source": [
    "## Testing neural network on testing dataset\n",
    "\n",
    "Evaluate performance on testing dataset."
   ]
  },
  {
   "cell_type": "code",
   "execution_count": 164,
   "metadata": {},
   "outputs": [
    {
     "name": "stdout",
     "output_type": "stream",
     "text": [
      "[array([[3.07808609e-18],\n",
      "       [4.34472441e-25],\n",
      "       [2.21766399e-32],\n",
      "       [2.28559020e-18],\n",
      "       [2.71071464e-01],\n",
      "       [8.27416807e-06],\n",
      "       [5.76982659e-33],\n",
      "       [8.95134687e-01],\n",
      "       [1.86753139e-32],\n",
      "       [1.53234012e-07],\n",
      "       [6.60018623e-02],\n",
      "       [3.46274328e-31],\n",
      "       [4.16747131e-33],\n",
      "       [5.90632534e-30],\n",
      "       [1.29925030e-30],\n",
      "       [1.61723886e-02],\n",
      "       [1.96672809e-05],\n",
      "       [2.77802110e-01],\n",
      "       [7.31889038e-09],\n",
      "       [1.38626920e-05],\n",
      "       [1.11911835e-15],\n",
      "       [5.12689971e-25],\n",
      "       [3.01611131e-25],\n",
      "       [8.26028734e-27],\n",
      "       [1.06299310e-15],\n",
      "       [1.90021635e-15],\n",
      "       [3.17021338e-19],\n",
      "       [1.55023023e-01],\n",
      "       [6.64349230e-24],\n",
      "       [1.26853234e-17],\n",
      "       [3.99691958e-24],\n",
      "       [2.78650782e-20],\n",
      "       [2.82500068e-09],\n",
      "       [8.00764384e-34],\n",
      "       [3.26372414e-30],\n",
      "       [5.25472000e-14],\n",
      "       [2.29274548e-07],\n",
      "       [1.65914922e-24],\n",
      "       [9.55221593e-01],\n",
      "       [1.71094365e-29],\n",
      "       [2.35213414e-24],\n",
      "       [2.02210892e-20],\n",
      "       [5.10289137e-05],\n",
      "       [1.16535566e-23],\n",
      "       [1.89185178e-11],\n",
      "       [7.15142485e-23],\n",
      "       [5.16369012e-22],\n",
      "       [6.86775584e-16],\n",
      "       [6.15763517e-13],\n",
      "       [5.48378569e-26],\n",
      "       [4.11515981e-02],\n",
      "       [7.88198722e-28],\n",
      "       [1.12918862e-20],\n",
      "       [1.22932960e-33],\n",
      "       [1.67922201e-06],\n",
      "       [3.64959035e-11],\n",
      "       [1.80686061e-15],\n",
      "       [3.78938561e-28],\n",
      "       [5.34065156e-20],\n",
      "       [1.82187783e-32],\n",
      "       [1.44403425e-27],\n",
      "       [7.82346590e-25],\n",
      "       [3.26587549e-17],\n",
      "       [1.42704243e-19]], dtype=float32), array([[3.21773692e-30],\n",
      "       [7.72930784e-26],\n",
      "       [6.00558177e-13],\n",
      "       [1.62176509e-33],\n",
      "       [1.44311472e-12],\n",
      "       [9.31678116e-01],\n",
      "       [1.15106511e-08],\n",
      "       [2.68038339e-19],\n",
      "       [5.81963812e-15],\n",
      "       [3.02916039e-27],\n",
      "       [1.32561411e-22],\n",
      "       [4.76691082e-12],\n",
      "       [9.85402129e-23],\n",
      "       [3.43584821e-31],\n",
      "       [8.22637834e-22],\n",
      "       [6.54831709e-29],\n",
      "       [9.40291223e-09],\n",
      "       [1.81189441e-09],\n",
      "       [2.11040432e-30],\n",
      "       [3.70687156e-15],\n",
      "       [5.89200577e-10],\n",
      "       [3.28038579e-31],\n",
      "       [3.78142633e-22],\n",
      "       [4.55800525e-20],\n",
      "       [1.90007183e-22],\n",
      "       [7.07096340e-24],\n",
      "       [8.33712266e-11],\n",
      "       [7.81065328e-30],\n",
      "       [9.69255609e-08],\n",
      "       [7.88796723e-01],\n",
      "       [4.96554486e-09],\n",
      "       [7.78293501e-22],\n",
      "       [5.31218645e-12],\n",
      "       [4.79338986e-30],\n",
      "       [4.96756336e-35],\n",
      "       [7.04867309e-29],\n",
      "       [2.11863456e-35],\n",
      "       [4.82953499e-09],\n",
      "       [2.43931508e-20],\n",
      "       [1.56505742e-21],\n",
      "       [3.59060977e-08],\n",
      "       [8.26609317e-33],\n",
      "       [7.85134634e-21],\n",
      "       [1.16442465e-08],\n",
      "       [3.63487910e-17],\n",
      "       [1.24363521e-26],\n",
      "       [2.06879928e-27],\n",
      "       [3.38624681e-31],\n",
      "       [6.98140939e-05],\n",
      "       [1.14797603e-30],\n",
      "       [3.12946071e-24],\n",
      "       [9.67480481e-01],\n",
      "       [1.69772511e-30],\n",
      "       [4.53797746e-08],\n",
      "       [1.35099662e-22],\n",
      "       [9.48765099e-01],\n",
      "       [2.50461696e-09],\n",
      "       [7.48770359e-33],\n",
      "       [3.05622464e-14],\n",
      "       [4.57297845e-22],\n",
      "       [9.90769909e-30],\n",
      "       [3.58150000e-26],\n",
      "       [7.74194908e-23],\n",
      "       [8.12286854e-01]], dtype=float32), array([[1.25636303e-04],\n",
      "       [4.26868104e-16],\n",
      "       [4.33021697e-31],\n",
      "       [6.03545307e-27],\n",
      "       [3.65041636e-31],\n",
      "       [7.58543253e-01],\n",
      "       [4.12394141e-22],\n",
      "       [5.66959411e-25],\n",
      "       [7.08374614e-03],\n",
      "       [5.01241014e-20],\n",
      "       [2.85357769e-28],\n",
      "       [1.71024151e-26],\n",
      "       [3.42720856e-31],\n",
      "       [1.70668316e-26],\n",
      "       [1.33350564e-04],\n",
      "       [1.14643444e-32],\n",
      "       [1.45092869e-15],\n",
      "       [1.49801672e-27],\n",
      "       [4.97511601e-33],\n",
      "       [1.66618467e-22],\n",
      "       [4.28779287e-23],\n",
      "       [8.41601975e-14],\n",
      "       [1.63783775e-09],\n",
      "       [3.82025184e-12],\n",
      "       [2.36239045e-12],\n",
      "       [9.67480481e-01],\n",
      "       [4.12612250e-10],\n",
      "       [4.05058745e-28],\n",
      "       [5.08045634e-29],\n",
      "       [1.13929596e-35],\n",
      "       [6.17560390e-29],\n",
      "       [1.67558164e-20],\n",
      "       [3.73784273e-29],\n",
      "       [4.69007403e-01],\n",
      "       [4.33654141e-19],\n",
      "       [2.02698514e-32],\n",
      "       [1.63790889e-21],\n",
      "       [4.27841457e-23],\n",
      "       [9.14954424e-01],\n",
      "       [1.53029193e-27],\n",
      "       [1.32396190e-05],\n",
      "       [4.76532724e-09],\n",
      "       [2.78894546e-11],\n",
      "       [1.15166555e-14],\n",
      "       [1.96799434e-12],\n",
      "       [1.04394722e-11],\n",
      "       [9.67480481e-01],\n",
      "       [1.92518543e-10],\n",
      "       [8.75828735e-33],\n",
      "       [7.00161119e-15],\n",
      "       [3.59980884e-21],\n",
      "       [2.53305417e-02],\n",
      "       [9.40911478e-25],\n",
      "       [2.33872312e-31],\n",
      "       [5.68477288e-02],\n",
      "       [1.71242015e-28],\n",
      "       [8.24379010e-35],\n",
      "       [5.19635736e-28],\n",
      "       [8.90452693e-26],\n",
      "       [1.26912383e-08],\n",
      "       [7.87014774e-21],\n",
      "       [3.69782814e-25],\n",
      "       [8.10406575e-10],\n",
      "       [9.23187661e-18]], dtype=float32), array([[2.74479769e-17],\n",
      "       [2.27799773e-20],\n",
      "       [4.69126551e-18],\n",
      "       [1.16563640e-22],\n",
      "       [8.78399318e-16],\n",
      "       [6.58698010e-20],\n",
      "       [1.16597260e-10],\n",
      "       [3.73617554e-10],\n",
      "       [9.57086086e-01],\n",
      "       [4.85481635e-15],\n",
      "       [4.25203907e-31],\n",
      "       [1.57912355e-32],\n",
      "       [4.63328975e-09],\n",
      "       [6.31754298e-30],\n",
      "       [3.49542564e-19],\n",
      "       [8.23730171e-01],\n",
      "       [1.54689868e-16],\n",
      "       [8.73996977e-32],\n",
      "       [3.82681716e-30],\n",
      "       [1.20625046e-27],\n",
      "       [7.58713560e-24],\n",
      "       [8.30236583e-27],\n",
      "       [2.10588539e-22],\n",
      "       [2.29053511e-29],\n",
      "       [1.11646242e-29],\n",
      "       [4.99908654e-33],\n",
      "       [2.72880920e-13],\n",
      "       [2.10222860e-19],\n",
      "       [2.43177696e-15],\n",
      "       [4.66258434e-15],\n",
      "       [8.80484921e-11],\n",
      "       [3.38671999e-34],\n",
      "       [4.07555767e-09],\n",
      "       [1.18744781e-30],\n",
      "       [1.60854133e-35],\n",
      "       [1.64545398e-30],\n",
      "       [1.61307382e-23],\n",
      "       [6.39799712e-20],\n",
      "       [9.67480481e-01],\n",
      "       [1.08361084e-16],\n",
      "       [4.54362134e-06],\n",
      "       [2.36260683e-27],\n",
      "       [1.37787205e-17],\n",
      "       [1.66967617e-24],\n",
      "       [2.85927814e-12],\n",
      "       [2.24591970e-10],\n",
      "       [2.64596269e-28],\n",
      "       [1.46386443e-24],\n",
      "       [4.29551732e-32],\n",
      "       [1.51134646e-32],\n",
      "       [1.66121971e-17],\n",
      "       [1.71425324e-32],\n",
      "       [4.70133840e-31],\n",
      "       [5.79134843e-33],\n",
      "       [9.93125013e-08],\n",
      "       [2.30971333e-31],\n",
      "       [1.03025365e-21],\n",
      "       [5.63119352e-02],\n",
      "       [1.75579438e-19],\n",
      "       [3.73267692e-18],\n",
      "       [5.76958837e-13],\n",
      "       [2.41273319e-30],\n",
      "       [1.64312622e-31],\n",
      "       [4.41533091e-26]], dtype=float32), array([[1.19713033e-16],\n",
      "       [1.06328933e-22],\n",
      "       [2.85378449e-28],\n",
      "       [2.94893947e-19],\n",
      "       [5.73748072e-31],\n",
      "       [1.62284925e-06],\n",
      "       [3.03654914e-11],\n",
      "       [5.79969277e-30],\n",
      "       [2.62953156e-20],\n",
      "       [1.29220859e-06],\n",
      "       [1.79415831e-33],\n",
      "       [1.86478543e-30],\n",
      "       [1.39441972e-21],\n",
      "       [5.70674684e-16],\n",
      "       [7.49808350e-32],\n",
      "       [4.05427031e-02],\n",
      "       [3.63369336e-21],\n",
      "       [1.13929596e-35],\n",
      "       [3.64606512e-21],\n",
      "       [7.51265439e-10],\n",
      "       [4.72542079e-28],\n",
      "       [2.54239239e-07],\n",
      "       [2.74517180e-19],\n",
      "       [4.56280678e-20],\n",
      "       [3.40126609e-15],\n",
      "       [9.72289848e-13],\n",
      "       [7.32439531e-08],\n",
      "       [3.45437489e-18],\n",
      "       [3.46397546e-14],\n",
      "       [8.84221567e-25],\n",
      "       [1.23737076e-32],\n",
      "       [3.52652724e-25],\n",
      "       [8.57526422e-01],\n",
      "       [4.48454954e-28],\n",
      "       [1.16752076e-26],\n",
      "       [6.55795848e-24],\n",
      "       [6.75316842e-04],\n",
      "       [9.91121760e-06],\n",
      "       [1.45391046e-10],\n",
      "       [9.62066333e-28],\n",
      "       [3.69661623e-17],\n",
      "       [9.00613546e-01],\n",
      "       [1.00310461e-33],\n",
      "       [4.88630378e-17],\n",
      "       [1.39864678e-05],\n",
      "       [1.40682885e-32],\n",
      "       [2.59909174e-30],\n",
      "       [1.07051563e-33],\n",
      "       [1.85279849e-19],\n",
      "       [4.90712783e-11],\n",
      "       [1.71609408e-05],\n",
      "       [9.01239574e-01],\n",
      "       [1.77144325e-26],\n",
      "       [1.12032375e-21],\n",
      "       [4.90551575e-27],\n",
      "       [3.74673854e-28],\n",
      "       [3.49921534e-26],\n",
      "       [7.84677477e-26],\n",
      "       [8.44385000e-22],\n",
      "       [9.93428170e-12],\n",
      "       [3.70251226e-11],\n",
      "       [1.86477946e-14],\n",
      "       [8.22493491e-22],\n",
      "       [8.63324642e-01]], dtype=float32), array([[2.07181802e-04],\n",
      "       [1.34118245e-05],\n",
      "       [2.77784871e-08],\n",
      "       [4.14461394e-31],\n",
      "       [5.55027702e-23],\n",
      "       [2.16020734e-12],\n",
      "       [3.56481018e-22],\n",
      "       [7.50321663e-29],\n",
      "       [1.90848675e-19],\n",
      "       [8.44059706e-01],\n",
      "       [2.90681312e-10],\n",
      "       [6.50270549e-09],\n",
      "       [1.32561517e-28],\n",
      "       [2.55501083e-16],\n",
      "       [2.21194743e-14]], dtype=float32)]\n",
      "Test Loss: 0.0400\n",
      "Accuracy: 98.51%\n"
     ]
    }
   ],
   "source": [
    "best_model.module_.eval()  \n",
    "test_loss = 0.0\n",
    "correct_predictions = 0\n",
    "total_samples = 0\n",
    "\n",
    "true_labels = []\n",
    "pred_labels = []\n",
    "criterion = nn.BCELoss()\n",
    "with torch.no_grad():\n",
    "    for inputs, labels in test_dataloader:  \n",
    "        outputs = best_model.module_(inputs)\n",
    "        true_labels.append(labels.cpu().numpy())\n",
    "        pred_labels.append(outputs.cpu().numpy())\n",
    "\n",
    "        loss = criterion(outputs, labels)\n",
    "\n",
    "        test_loss += loss.item()\n",
    "\n",
    "        predicted_classes = (outputs >= 0.85).float() \n",
    "        correct_predictions += (predicted_classes == labels).sum().item()\n",
    "        total_samples += labels.size(0)\n",
    "\n",
    "print(pred_labels)\n",
    "true_labels = np.concatenate(true_labels)\n",
    "pred_labels = np.concatenate(pred_labels)\n",
    "\n",
    "\n",
    "average_test_loss = test_loss / len(test_dataloader)\n",
    "accuracy = correct_predictions / total_samples\n",
    "\n",
    "print(f'Test Loss: {average_test_loss:.4f}')\n",
    "print(f'Accuracy: {accuracy * 100:.2f}%')"
   ]
  },
  {
   "attachments": {},
   "cell_type": "markdown",
   "metadata": {},
   "source": [
    "## Visualization for Performance\n",
    "\n",
    "We'll use a confusion matrix to visualize performance. In this case, the order of the confusion matrix is TP, FP, FN, TN.\n",
    "\n",
    "TP (True Positive): When prediction is 1 and the true output is 1. <br>\n",
    "FP (False Positive): When prediction is 1 and the true output is 0. <br>\n",
    "TN (True Negative): When prediction is 0 and the true output is 0. <br>\n",
    "FN (False Negative): When prediction is 0 and the true output is 1. <br>"
   ]
  },
  {
   "cell_type": "code",
   "execution_count": 165,
   "metadata": {},
   "outputs": [
    {
     "name": "stdout",
     "output_type": "stream",
     "text": [
      "[[ 14   1]\n",
      " [  3 317]]\n"
     ]
    }
   ],
   "source": [
    "from sklearn.metrics import confusion_matrix, ConfusionMatrixDisplay\n",
    "\n",
    "threshold = 0.8\n",
    "pred_labels = (pred_labels >= threshold).astype(int)\n",
    "\n",
    "conf_mtx = confusion_matrix(true_labels, pred_labels, labels = [1,0])\n",
    "print(conf_mtx)"
   ]
  },
  {
   "cell_type": "code",
   "execution_count": 166,
   "metadata": {},
   "outputs": [
    {
     "data": {
      "text/plain": [
       "<sklearn.metrics._plot.confusion_matrix.ConfusionMatrixDisplay at 0x19ed1c1f850>"
      ]
     },
     "execution_count": 166,
     "metadata": {},
     "output_type": "execute_result"
    },
    {
     "data": {
      "image/png": "[encoded data removed]",
      "text/plain": [
       "<Figure size 640x480 with 2 Axes>"
      ]
     },
     "metadata": {},
     "output_type": "display_data"
    }
   ],
   "source": [
    "cm_disp = ConfusionMatrixDisplay(conf_mtx)\n",
    "cm_disp.plot(cmap = \"Reds\")"
   ]
  },
  {
   "cell_type": "code",
   "execution_count": 167,
   "metadata": {},
   "outputs": [
    {
     "name": "stdout",
     "output_type": "stream",
     "text": [
      "14 3 317 1\n"
     ]
    }
   ],
   "source": [
    "TP = conf_mtx[0][0]\n",
    "FP = conf_mtx[1][0]\n",
    "TN = conf_mtx[1][1]\n",
    "FN = conf_mtx[0][1]\n",
    "\n",
    "print(TP, FP, TN, FN)"
   ]
  },
  {
   "attachments": {},
   "cell_type": "markdown",
   "metadata": {},
   "source": [
    "## Evaluation Metrics\n",
    "\n",
    "Precision is calculated as follows: $$ \\frac{TP}{(TP + FP)} $$\n",
    "\n",
    "Recall is calculated as follows: $$ \\frac{TP}{(TP + FN)} $$\n",
    "\n",
    "f1Score is calculated as follows: $$ \\frac{Precision * Recall}{(Precision + Recall)} $$ "
   ]
  },
  {
   "cell_type": "code",
   "execution_count": 168,
   "metadata": {},
   "outputs": [
    {
     "name": "stdout",
     "output_type": "stream",
     "text": [
      "Precision: 0.8235294117647058\n",
      "Recall: 0.9333333333333333\n",
      "f1score: 0.8749999999999999\n"
     ]
    }
   ],
   "source": [
    "precision = TP / (TP + FP)\n",
    "recall = TP / (TP + FN)\n",
    "f1score = (2 * precision * recall) / (precision + recall)\n",
    "\n",
    "print(f'Precision: {precision}')\n",
    "print(f'Recall: {recall}')\n",
    "print(f'f1score: {f1score}')\n"
   ]
  }
 ],
 "metadata": {
  "kernelspec": {
   "display_name": "Python 3.8.8 ('base')",
   "language": "python",
   "name": "python3"
  },
  "language_info": {
   "codemirror_mode": {
    "name": "ipython",
    "version": 3
   },
   "file_extension": ".py",
   "mimetype": "text/x-python",
   "name": "python",
   "nbconvert_exporter": "python",
   "pygments_lexer": "ipython3",
   "version": "3.11.5"
  },
  "orig_nbformat": 4,
  "vscode": {
   "interpreter": {
    "hash": "c47e47cda05e9886a0f1932160b1f70f95aa1d71424dff224d867803480b36f1"
   }
  }
 },
 "nbformat": 4,
 "nbformat_minor": 2
}
