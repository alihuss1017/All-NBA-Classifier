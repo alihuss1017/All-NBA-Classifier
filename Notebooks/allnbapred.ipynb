{
 "cells": [
  {
   "attachments": {},
   "cell_type": "markdown",
   "metadata": {},
   "source": [
    "# All-NBA Team Binary Classification Model\n",
    "\n",
    "Will use various classification algorithms(logisitic regression, KNN, SVM, etc) and evaluate performance on dataset."
   ]
  },
  {
   "cell_type": "code",
   "execution_count": 537,
   "metadata": {},
   "outputs": [],
   "source": [
    "import pandas as pd\n",
    "import numpy as np \n",
    "import torch\n",
    "from torch import nn\n",
    "from torchvision import transforms\n",
    "import matplotlib.pyplot as plt\n",
    "from mpl_toolkits import mplot3d\n",
    "import sklearn\n",
    "from sklearn import *\n",
    "from sklearn.metrics import *\n",
    "import pickle"
   ]
  },
  {
   "attachments": {},
   "cell_type": "markdown",
   "metadata": {},
   "source": [
    "## Load and analyze dataset\n",
    "\n",
    "Preview features (player, games started, minutes played, etc.) and training examples (the players)."
   ]
  },
  {
   "cell_type": "code",
   "execution_count": 538,
   "metadata": {},
   "outputs": [
    {
     "data": {
      "text/html": [
       "<div>\n",
       "<style scoped>\n",
       "    .dataframe tbody tr th:only-of-type {\n",
       "        vertical-align: middle;\n",
       "    }\n",
       "\n",
       "    .dataframe tbody tr th {\n",
       "        vertical-align: top;\n",
       "    }\n",
       "\n",
       "    .dataframe thead th {\n",
       "        text-align: right;\n",
       "    }\n",
       "</style>\n",
       "<table border=\"1\" class=\"dataframe\">\n",
       "  <thead>\n",
       "    <tr style=\"text-align: right;\">\n",
       "      <th></th>\n",
       "      <th>Player</th>\n",
       "      <th>G</th>\n",
       "      <th>GPnS%</th>\n",
       "      <th>GPnSround%</th>\n",
       "      <th>GS</th>\n",
       "      <th>MP</th>\n",
       "      <th>FG</th>\n",
       "      <th>FGA</th>\n",
       "      <th>FG%</th>\n",
       "      <th>3P</th>\n",
       "      <th>...</th>\n",
       "      <th>STL</th>\n",
       "      <th>BLK</th>\n",
       "      <th>TOV</th>\n",
       "      <th>PF</th>\n",
       "      <th>PTS</th>\n",
       "      <th>PER</th>\n",
       "      <th>WS</th>\n",
       "      <th>BPM</th>\n",
       "      <th>VORP</th>\n",
       "      <th>All-NBA?</th>\n",
       "    </tr>\n",
       "  </thead>\n",
       "  <tbody>\n",
       "    <tr>\n",
       "      <th>0</th>\n",
       "      <td>Precious Achiuwa</td>\n",
       "      <td>61</td>\n",
       "      <td>0.055556</td>\n",
       "      <td>0.0556</td>\n",
       "      <td>4</td>\n",
       "      <td>12.1</td>\n",
       "      <td>2.0</td>\n",
       "      <td>3.7</td>\n",
       "      <td>0.544</td>\n",
       "      <td>0.0</td>\n",
       "      <td>...</td>\n",
       "      <td>0.3</td>\n",
       "      <td>0.5</td>\n",
       "      <td>0.7</td>\n",
       "      <td>1.5</td>\n",
       "      <td>5.0</td>\n",
       "      <td>14.2</td>\n",
       "      <td>1.3</td>\n",
       "      <td>-4.5</td>\n",
       "      <td>-0.5</td>\n",
       "      <td>0</td>\n",
       "    </tr>\n",
       "    <tr>\n",
       "      <th>1</th>\n",
       "      <td>Jaylen Adams</td>\n",
       "      <td>7</td>\n",
       "      <td>0.000000</td>\n",
       "      <td>0.0000</td>\n",
       "      <td>0</td>\n",
       "      <td>2.6</td>\n",
       "      <td>0.1</td>\n",
       "      <td>1.1</td>\n",
       "      <td>0.125</td>\n",
       "      <td>0.0</td>\n",
       "      <td>...</td>\n",
       "      <td>0.0</td>\n",
       "      <td>0.0</td>\n",
       "      <td>0.0</td>\n",
       "      <td>0.1</td>\n",
       "      <td>0.3</td>\n",
       "      <td>-6.5</td>\n",
       "      <td>-0.1</td>\n",
       "      <td>-19.8</td>\n",
       "      <td>-0.1</td>\n",
       "      <td>0</td>\n",
       "    </tr>\n",
       "    <tr>\n",
       "      <th>2</th>\n",
       "      <td>Steven Adams</td>\n",
       "      <td>58</td>\n",
       "      <td>0.805556</td>\n",
       "      <td>0.8056</td>\n",
       "      <td>58</td>\n",
       "      <td>27.7</td>\n",
       "      <td>3.3</td>\n",
       "      <td>5.3</td>\n",
       "      <td>0.614</td>\n",
       "      <td>0.0</td>\n",
       "      <td>...</td>\n",
       "      <td>0.9</td>\n",
       "      <td>0.7</td>\n",
       "      <td>1.3</td>\n",
       "      <td>1.9</td>\n",
       "      <td>7.6</td>\n",
       "      <td>15.1</td>\n",
       "      <td>4.0</td>\n",
       "      <td>-0.8</td>\n",
       "      <td>0.5</td>\n",
       "      <td>0</td>\n",
       "    </tr>\n",
       "    <tr>\n",
       "      <th>3</th>\n",
       "      <td>Bam Adebayo</td>\n",
       "      <td>64</td>\n",
       "      <td>0.888889</td>\n",
       "      <td>0.8889</td>\n",
       "      <td>64</td>\n",
       "      <td>33.5</td>\n",
       "      <td>7.1</td>\n",
       "      <td>12.5</td>\n",
       "      <td>0.570</td>\n",
       "      <td>0.0</td>\n",
       "      <td>...</td>\n",
       "      <td>1.2</td>\n",
       "      <td>1.0</td>\n",
       "      <td>2.6</td>\n",
       "      <td>2.3</td>\n",
       "      <td>18.7</td>\n",
       "      <td>22.7</td>\n",
       "      <td>8.8</td>\n",
       "      <td>4.7</td>\n",
       "      <td>3.6</td>\n",
       "      <td>0</td>\n",
       "    </tr>\n",
       "    <tr>\n",
       "      <th>4</th>\n",
       "      <td>LaMarcus Aldridge</td>\n",
       "      <td>26</td>\n",
       "      <td>0.319444</td>\n",
       "      <td>0.3194</td>\n",
       "      <td>23</td>\n",
       "      <td>25.9</td>\n",
       "      <td>5.4</td>\n",
       "      <td>11.4</td>\n",
       "      <td>0.473</td>\n",
       "      <td>1.2</td>\n",
       "      <td>...</td>\n",
       "      <td>0.4</td>\n",
       "      <td>1.1</td>\n",
       "      <td>1.0</td>\n",
       "      <td>1.8</td>\n",
       "      <td>13.5</td>\n",
       "      <td>15.7</td>\n",
       "      <td>1.1</td>\n",
       "      <td>-0.6</td>\n",
       "      <td>0.2</td>\n",
       "      <td>0</td>\n",
       "    </tr>\n",
       "  </tbody>\n",
       "</table>\n",
       "<p>5 rows × 28 columns</p>\n",
       "</div>"
      ],
      "text/plain": [
       "              Player   G     GPnS%  GPnSround%  GS    MP   FG   FGA    FG%  \\\n",
       "0   Precious Achiuwa  61  0.055556      0.0556   4  12.1  2.0   3.7  0.544   \n",
       "1       Jaylen Adams   7  0.000000      0.0000   0   2.6  0.1   1.1  0.125   \n",
       "2       Steven Adams  58  0.805556      0.8056  58  27.7  3.3   5.3  0.614   \n",
       "3        Bam Adebayo  64  0.888889      0.8889  64  33.5  7.1  12.5  0.570   \n",
       "4  LaMarcus Aldridge  26  0.319444      0.3194  23  25.9  5.4  11.4  0.473   \n",
       "\n",
       "    3P  ...  STL  BLK  TOV   PF   PTS   PER   WS   BPM  VORP  All-NBA?  \n",
       "0  0.0  ...  0.3  0.5  0.7  1.5   5.0  14.2  1.3  -4.5  -0.5         0  \n",
       "1  0.0  ...  0.0  0.0  0.0  0.1   0.3  -6.5 -0.1 -19.8  -0.1         0  \n",
       "2  0.0  ...  0.9  0.7  1.3  1.9   7.6  15.1  4.0  -0.8   0.5         0  \n",
       "3  0.0  ...  1.2  1.0  2.6  2.3  18.7  22.7  8.8   4.7   3.6         0  \n",
       "4  1.2  ...  0.4  1.1  1.0  1.8  13.5  15.7  1.1  -0.6   0.2         0  \n",
       "\n",
       "[5 rows x 28 columns]"
      ]
     },
     "execution_count": 538,
     "metadata": {},
     "output_type": "execute_result"
    }
   ],
   "source": [
    "DATADIR = \"../Data/DataSet.csv\"\n",
    "df = pd.read_csv(DATADIR) # read dataset\n",
    "df.head() # preview first few features and rows"
   ]
  },
  {
   "attachments": {},
   "cell_type": "markdown",
   "metadata": {},
   "source": [
    "Look at list of all features."
   ]
  },
  {
   "cell_type": "code",
   "execution_count": 539,
   "metadata": {},
   "outputs": [
    {
     "data": {
      "text/plain": [
       "Index(['Player', 'G', 'GPnS%', 'GPnSround%', 'GS', 'MP', 'FG', 'FGA', 'FG%',\n",
       "       '3P', '3PA', '3P%', '2P', '2PA', '2P%', 'eFG%', 'TRB', 'AST', 'STL',\n",
       "       'BLK', 'TOV', 'PF', 'PTS', 'PER', 'WS', 'BPM', 'VORP', 'All-NBA?'],\n",
       "      dtype='object')"
      ]
     },
     "execution_count": 539,
     "metadata": {},
     "output_type": "execute_result"
    }
   ],
   "source": [
    "df.columns # list of columns"
   ]
  },
  {
   "attachments": {},
   "cell_type": "markdown",
   "metadata": {},
   "source": [
    "Remove player column from dataset and store it in numpy array."
   ]
  },
  {
   "cell_type": "code",
   "execution_count": 540,
   "metadata": {},
   "outputs": [],
   "source": [
    "players = df.pop('Player') # remove Player column from dataSet and store in players\n",
    "players = np.array(players) # cast players from list into numpy array"
   ]
  },
  {
   "attachments": {},
   "cell_type": "markdown",
   "metadata": {},
   "source": [
    "Examine players numpy array."
   ]
  },
  {
   "cell_type": "code",
   "execution_count": 541,
   "metadata": {},
   "outputs": [
    {
     "data": {
      "text/plain": [
       "array(['Precious Achiuwa', 'Jaylen Adams', 'Steven Adams', ...,\n",
       "       'Andre Drummond', 'Klay Thompson', 'Kyle Lowry'], dtype=object)"
      ]
     },
     "execution_count": 541,
     "metadata": {},
     "output_type": "execute_result"
    }
   ],
   "source": [
    "players"
   ]
  },
  {
   "attachments": {},
   "cell_type": "markdown",
   "metadata": {},
   "source": [
    "## Find correlation between features and target variable\n",
    "\n",
    "Use a correlation matrix to determine the features with the strongest correlation to the target variable (All-NBA?). Look at the leftmost and rightmost column to analyze strongest features."
   ]
  },
  {
   "cell_type": "code",
   "execution_count": 542,
   "metadata": {},
   "outputs": [
    {
     "data": {
      "text/plain": [
       "G             0.275890\n",
       "GPnS%         0.454324\n",
       "GPnSround%    0.454319\n",
       "GS            0.471530\n",
       "MP            0.402598\n",
       "FG            0.551768\n",
       "FGA           0.524672\n",
       "FG%           0.127382\n",
       "3P            0.297344\n",
       "3PA           0.297626\n",
       "3P%           0.061744\n",
       "2P            0.540380\n",
       "2PA           0.532232\n",
       "2P%           0.087835\n",
       "eFG%          0.100872\n",
       "TRB           0.418248\n",
       "AST           0.475572\n",
       "STL           0.435999\n",
       "BLK           0.274642\n",
       "TOV           0.535496\n",
       "PF            0.219371\n",
       "PTS           0.581269\n",
       "PER           0.420605\n",
       "WS            0.703642\n",
       "BPM           0.382282\n",
       "VORP          0.779935\n",
       "All-NBA?      1.000000\n",
       "dtype: float64"
      ]
     },
     "execution_count": 542,
     "metadata": {},
     "output_type": "execute_result"
    }
   ],
   "source": [
    "# dataSet.corr()    this prints the correlation matrix for all other features\n",
    "df.corrwith(df[\"All-NBA?\"])"
   ]
  },
  {
   "attachments": {},
   "cell_type": "markdown",
   "metadata": {},
   "source": [
    "## Feature Selection\n",
    "\n",
    "Choose features based on strongest correlation with target variable."
   ]
  },
  {
   "cell_type": "code",
   "execution_count": 543,
   "metadata": {},
   "outputs": [],
   "source": [
    "# include all rows and only the listed colums\n",
    "df = df.loc[:, [\"GS\", \"FG\", \"FGA\", \"2P\", \"2PA\", \"AST\", \n",
    "                \"TOV\", \"PTS\", \"WS\", \"VORP\", \"All-NBA?\"]] "
   ]
  },
  {
   "attachments": {},
   "cell_type": "markdown",
   "metadata": {},
   "source": [
    "## Feature Engineering\n",
    "\n",
    "Develop new features based on existing features. For example, the AST/TOV ratio is a commonly used statistic in evaluating the playmaking ability of a player."
   ]
  },
  {
   "cell_type": "code",
   "execution_count": 544,
   "metadata": {},
   "outputs": [],
   "source": [
    "df['AST/TOV'] = df.apply(lambda x: x['AST'] / x['TOV'] if x['TOV'] != 0 else 1, axis = 1)"
   ]
  },
  {
   "cell_type": "code",
   "execution_count": 545,
   "metadata": {},
   "outputs": [
    {
     "data": {
      "text/plain": [
       "0       0.714286\n",
       "1       1.000000\n",
       "2       1.461538\n",
       "3       2.076923\n",
       "4       1.900000\n",
       "          ...   \n",
       "1110    1.242424\n",
       "1111    1.153846\n",
       "1112    0.421053\n",
       "1113    1.235294\n",
       "1114    2.206897\n",
       "Name: AST/TOV, Length: 1115, dtype: float64"
      ]
     },
     "execution_count": 545,
     "metadata": {},
     "output_type": "execute_result"
    }
   ],
   "source": [
    "df['AST/TOV']"
   ]
  },
  {
   "cell_type": "code",
   "execution_count": 546,
   "metadata": {},
   "outputs": [
    {
     "data": {
      "text/plain": [
       "GS          0.471530\n",
       "FG          0.551768\n",
       "FGA         0.524672\n",
       "2P          0.540380\n",
       "2PA         0.532232\n",
       "AST         0.475572\n",
       "TOV         0.535496\n",
       "PTS         0.581269\n",
       "WS          0.703642\n",
       "VORP        0.779935\n",
       "All-NBA?    1.000000\n",
       "AST/TOV     0.024009\n",
       "dtype: float64"
      ]
     },
     "execution_count": 546,
     "metadata": {},
     "output_type": "execute_result"
    }
   ],
   "source": [
    "df.corrwith(df['All-NBA?'])"
   ]
  },
  {
   "attachments": {},
   "cell_type": "markdown",
   "metadata": {},
   "source": [
    "AST/TOV doesn't have a strong positive correlation with making an All-NBA team, so we'll discard it."
   ]
  },
  {
   "cell_type": "code",
   "execution_count": 547,
   "metadata": {},
   "outputs": [
    {
     "data": {
      "text/html": [
       "<div>\n",
       "<style scoped>\n",
       "    .dataframe tbody tr th:only-of-type {\n",
       "        vertical-align: middle;\n",
       "    }\n",
       "\n",
       "    .dataframe tbody tr th {\n",
       "        vertical-align: top;\n",
       "    }\n",
       "\n",
       "    .dataframe thead th {\n",
       "        text-align: right;\n",
       "    }\n",
       "</style>\n",
       "<table border=\"1\" class=\"dataframe\">\n",
       "  <thead>\n",
       "    <tr style=\"text-align: right;\">\n",
       "      <th></th>\n",
       "      <th>GS</th>\n",
       "      <th>FG</th>\n",
       "      <th>FGA</th>\n",
       "      <th>2P</th>\n",
       "      <th>2PA</th>\n",
       "      <th>AST</th>\n",
       "      <th>TOV</th>\n",
       "      <th>PTS</th>\n",
       "      <th>WS</th>\n",
       "      <th>VORP</th>\n",
       "      <th>All-NBA?</th>\n",
       "    </tr>\n",
       "  </thead>\n",
       "  <tbody>\n",
       "    <tr>\n",
       "      <th>0</th>\n",
       "      <td>4</td>\n",
       "      <td>2.0</td>\n",
       "      <td>3.7</td>\n",
       "      <td>2.0</td>\n",
       "      <td>3.7</td>\n",
       "      <td>0.5</td>\n",
       "      <td>0.7</td>\n",
       "      <td>5.0</td>\n",
       "      <td>1.3</td>\n",
       "      <td>-0.5</td>\n",
       "      <td>0</td>\n",
       "    </tr>\n",
       "    <tr>\n",
       "      <th>1</th>\n",
       "      <td>0</td>\n",
       "      <td>0.1</td>\n",
       "      <td>1.1</td>\n",
       "      <td>0.1</td>\n",
       "      <td>0.9</td>\n",
       "      <td>0.3</td>\n",
       "      <td>0.0</td>\n",
       "      <td>0.3</td>\n",
       "      <td>-0.1</td>\n",
       "      <td>-0.1</td>\n",
       "      <td>0</td>\n",
       "    </tr>\n",
       "    <tr>\n",
       "      <th>2</th>\n",
       "      <td>58</td>\n",
       "      <td>3.3</td>\n",
       "      <td>5.3</td>\n",
       "      <td>3.3</td>\n",
       "      <td>5.3</td>\n",
       "      <td>1.9</td>\n",
       "      <td>1.3</td>\n",
       "      <td>7.6</td>\n",
       "      <td>4.0</td>\n",
       "      <td>0.5</td>\n",
       "      <td>0</td>\n",
       "    </tr>\n",
       "    <tr>\n",
       "      <th>3</th>\n",
       "      <td>64</td>\n",
       "      <td>7.1</td>\n",
       "      <td>12.5</td>\n",
       "      <td>7.1</td>\n",
       "      <td>12.4</td>\n",
       "      <td>5.4</td>\n",
       "      <td>2.6</td>\n",
       "      <td>18.7</td>\n",
       "      <td>8.8</td>\n",
       "      <td>3.6</td>\n",
       "      <td>0</td>\n",
       "    </tr>\n",
       "    <tr>\n",
       "      <th>4</th>\n",
       "      <td>23</td>\n",
       "      <td>5.4</td>\n",
       "      <td>11.4</td>\n",
       "      <td>4.2</td>\n",
       "      <td>8.3</td>\n",
       "      <td>1.9</td>\n",
       "      <td>1.0</td>\n",
       "      <td>13.5</td>\n",
       "      <td>1.1</td>\n",
       "      <td>0.2</td>\n",
       "      <td>0</td>\n",
       "    </tr>\n",
       "    <tr>\n",
       "      <th>...</th>\n",
       "      <td>...</td>\n",
       "      <td>...</td>\n",
       "      <td>...</td>\n",
       "      <td>...</td>\n",
       "      <td>...</td>\n",
       "      <td>...</td>\n",
       "      <td>...</td>\n",
       "      <td>...</td>\n",
       "      <td>...</td>\n",
       "      <td>...</td>\n",
       "      <td>...</td>\n",
       "    </tr>\n",
       "    <tr>\n",
       "      <th>1110</th>\n",
       "      <td>81</td>\n",
       "      <td>7.5</td>\n",
       "      <td>17.9</td>\n",
       "      <td>4.9</td>\n",
       "      <td>10.9</td>\n",
       "      <td>4.1</td>\n",
       "      <td>3.3</td>\n",
       "      <td>23.1</td>\n",
       "      <td>9.2</td>\n",
       "      <td>4.9</td>\n",
       "      <td>1</td>\n",
       "    </tr>\n",
       "    <tr>\n",
       "      <th>1111</th>\n",
       "      <td>74</td>\n",
       "      <td>7.2</td>\n",
       "      <td>14.1</td>\n",
       "      <td>7.2</td>\n",
       "      <td>13.9</td>\n",
       "      <td>1.5</td>\n",
       "      <td>1.3</td>\n",
       "      <td>18.0</td>\n",
       "      <td>10.1</td>\n",
       "      <td>2.5</td>\n",
       "      <td>1</td>\n",
       "    </tr>\n",
       "    <tr>\n",
       "      <th>1112</th>\n",
       "      <td>81</td>\n",
       "      <td>6.8</td>\n",
       "      <td>13.1</td>\n",
       "      <td>6.8</td>\n",
       "      <td>13.0</td>\n",
       "      <td>0.8</td>\n",
       "      <td>1.9</td>\n",
       "      <td>16.2</td>\n",
       "      <td>7.4</td>\n",
       "      <td>2.0</td>\n",
       "      <td>1</td>\n",
       "    </tr>\n",
       "    <tr>\n",
       "      <th>1113</th>\n",
       "      <td>80</td>\n",
       "      <td>8.1</td>\n",
       "      <td>17.3</td>\n",
       "      <td>4.7</td>\n",
       "      <td>9.2</td>\n",
       "      <td>2.1</td>\n",
       "      <td>1.7</td>\n",
       "      <td>22.1</td>\n",
       "      <td>8.0</td>\n",
       "      <td>2.5</td>\n",
       "      <td>1</td>\n",
       "    </tr>\n",
       "    <tr>\n",
       "      <th>1114</th>\n",
       "      <td>77</td>\n",
       "      <td>6.6</td>\n",
       "      <td>15.6</td>\n",
       "      <td>3.9</td>\n",
       "      <td>8.5</td>\n",
       "      <td>6.4</td>\n",
       "      <td>2.9</td>\n",
       "      <td>21.2</td>\n",
       "      <td>11.6</td>\n",
       "      <td>5.0</td>\n",
       "      <td>1</td>\n",
       "    </tr>\n",
       "  </tbody>\n",
       "</table>\n",
       "<p>1115 rows × 11 columns</p>\n",
       "</div>"
      ],
      "text/plain": [
       "      GS   FG   FGA   2P   2PA  AST  TOV   PTS    WS  VORP  All-NBA?\n",
       "0      4  2.0   3.7  2.0   3.7  0.5  0.7   5.0   1.3  -0.5         0\n",
       "1      0  0.1   1.1  0.1   0.9  0.3  0.0   0.3  -0.1  -0.1         0\n",
       "2     58  3.3   5.3  3.3   5.3  1.9  1.3   7.6   4.0   0.5         0\n",
       "3     64  7.1  12.5  7.1  12.4  5.4  2.6  18.7   8.8   3.6         0\n",
       "4     23  5.4  11.4  4.2   8.3  1.9  1.0  13.5   1.1   0.2         0\n",
       "...   ..  ...   ...  ...   ...  ...  ...   ...   ...   ...       ...\n",
       "1110  81  7.5  17.9  4.9  10.9  4.1  3.3  23.1   9.2   4.9         1\n",
       "1111  74  7.2  14.1  7.2  13.9  1.5  1.3  18.0  10.1   2.5         1\n",
       "1112  81  6.8  13.1  6.8  13.0  0.8  1.9  16.2   7.4   2.0         1\n",
       "1113  80  8.1  17.3  4.7   9.2  2.1  1.7  22.1   8.0   2.5         1\n",
       "1114  77  6.6  15.6  3.9   8.5  6.4  2.9  21.2  11.6   5.0         1\n",
       "\n",
       "[1115 rows x 11 columns]"
      ]
     },
     "execution_count": 547,
     "metadata": {},
     "output_type": "execute_result"
    }
   ],
   "source": [
    "df = df.drop('AST/TOV', axis = 1)\n",
    "df"
   ]
  },
  {
   "attachments": {},
   "cell_type": "markdown",
   "metadata": {},
   "source": [
    "## Feature Scaling\n",
    "\n",
    "Scale features so that they have a uniform range. In this case we'll use Z-score normalization, which uses the following equation: $$ x_{n} = \\frac{x_{n} - \\mu_{n}}{\\sigma_{n}} $$\n",
    "where $ x_n $ is the row of the nth column, $ \\mu_{n} $ is the mean of the nth column, and $ \\sigma_{n} $ is the standard deviation of the nth column."
   ]
  },
  {
   "cell_type": "code",
   "execution_count": 548,
   "metadata": {},
   "outputs": [
    {
     "data": {
      "text/plain": [
       "10"
      ]
     },
     "execution_count": 548,
     "metadata": {},
     "output_type": "execute_result"
    }
   ],
   "source": [
    "features_df = df.drop(\"All-NBA?\", axis = 1)\n",
    "\n",
    "np.save('../Data/min_init_values.npy', features_df.min().values)\n",
    "np.save('../Data/max_init_values.npy', features_df.max().values)\n",
    "\n",
    "for col in features_df:\n",
    "    df[col] = (df[col] - np.mean(df[col])) / np.std(df[col])\n",
    "len(features_df.columns)"
   ]
  },
  {
   "cell_type": "code",
   "execution_count": 549,
   "metadata": {},
   "outputs": [],
   "source": [
    "np.save('../Data/min_values.npy', df.min().values)\n",
    "np.save('../Data/max_values.npy', df.max().values)"
   ]
  },
  {
   "cell_type": "code",
   "execution_count": 550,
   "metadata": {},
   "outputs": [
    {
     "data": {
      "text/plain": [
       "array([-0.86927851, -1.40084893, -1.48172392, -1.22389381, -1.27587815,\n",
       "       -1.05004996, -1.28216307, -1.36106089, -1.43338617, -1.73919331,\n",
       "        0.        ])"
      ]
     },
     "execution_count": 550,
     "metadata": {},
     "output_type": "execute_result"
    }
   ],
   "source": [
    "df.min().values"
   ]
  },
  {
   "cell_type": "code",
   "execution_count": 551,
   "metadata": {},
   "outputs": [],
   "source": [
    "from torch.utils.data import Dataset\n",
    "\n",
    "class CustomDataset(Dataset):\n",
    "    def __init__(self, data, labels):\n",
    "        self.data = data\n",
    "        self.labels = labels\n",
    "\n",
    "    def __len__(self):\n",
    "        return len(self.data)\n",
    "\n",
    "    def __getitem__(self, idx):\n",
    "        input_sample = self.data[idx]     # Replace with your input feature data\n",
    "        target_sample = self.labels[idx]  # Replace with your target label data\n",
    "\n",
    "        return {'input': input_sample, 'target': target_sample}\n"
   ]
  },
  {
   "attachments": {},
   "cell_type": "markdown",
   "metadata": {},
   "source": [
    "Seperate target variable from features and convert to tensors."
   ]
  },
  {
   "cell_type": "code",
   "execution_count": 552,
   "metadata": {},
   "outputs": [],
   "source": [
    "from torch.utils.data import DataLoader, random_split, TensorDataset\n",
    "\n",
    "X = df[['GS', 'FG', 'FGA', '2P', '2PA', 'AST', 'TOV', 'PTS', 'WS', 'VORP']].values  \n",
    "Y = df[['All-NBA?']].values  \n",
    "\n",
    "# Convert NumPy arrays to PyTorch tensors\n",
    "X = torch.tensor(X, dtype=torch.float32)\n",
    "Y = torch.tensor(Y, dtype=torch.float32)"
   ]
  },
  {
   "attachments": {},
   "cell_type": "markdown",
   "metadata": {},
   "source": [
    "Perform train-test data split and create dataloaders."
   ]
  },
  {
   "cell_type": "code",
   "execution_count": 553,
   "metadata": {},
   "outputs": [
    {
     "name": "stdout",
     "output_type": "stream",
     "text": [
      "1115 780 335\n"
     ]
    }
   ],
   "source": [
    "dataset = TensorDataset(X, Y)\n",
    "\n",
    "train_ratio = 0.7\n",
    "test_ratio = 0.3\n",
    "\n",
    "num_samples = len(dataset)\n",
    "train_size = int(train_ratio * num_samples)\n",
    "test_size =  num_samples - train_size\n",
    "\n",
    "print(num_samples, train_size, test_size)\n",
    "train_dataset, test_dataset = random_split(dataset, [train_size, test_size])\n",
    "\n",
    "X_train, Y_train = train_dataset.dataset[train_dataset.indices]\n",
    "X_test, Y_test = test_dataset.dataset[test_dataset.indices]\n",
    "\n",
    "batch_size = 64\n",
    "train_dataloader = DataLoader(train_dataset, batch_size=batch_size, shuffle=True)\n",
    "test_dataloader = DataLoader(test_dataset, batch_size=batch_size, shuffle=False)"
   ]
  },
  {
   "attachments": {},
   "cell_type": "markdown",
   "metadata": {},
   "source": [
    "## Defining the Model\n",
    "\n",
    "We'll use a sequential neural network with 2 hidden layers and a sigmoid activation function for the output layer for the binary classification. Binary Cross Entropy Loss is the used loss function, while adam is the optimizer algorithm."
   ]
  },
  {
   "cell_type": "code",
   "execution_count": 554,
   "metadata": {},
   "outputs": [],
   "source": [
    "import torch.nn as nn\n",
    "class CustomModel(nn.Module):\n",
    "    def __init__(self, input_size, num_layers, num_neurons):\n",
    "        super(CustomModel, self).__init__()\n",
    "        self.layers = [nn.Linear(input_size, num_neurons), nn.ReLU()]\n",
    "\n",
    "        for layer in range(1, num_layers):\n",
    "            self.layers.append(nn.Linear(num_neurons, num_neurons))\n",
    "            self.layers.append(nn.ReLU())\n",
    "        \n",
    "        self.layers.append(nn.Linear(num_neurons, 1))\n",
    "        self.layers.append(nn.Sigmoid())\n",
    "\n",
    "        self.model = nn.Sequential(*self.layers)\n",
    "\n",
    "    def forward(self, x):\n",
    "        return self.model(x)"
   ]
  },
  {
   "cell_type": "code",
   "execution_count": 555,
   "metadata": {},
   "outputs": [],
   "source": [
    "from sklearn.base import BaseEstimator\n",
    "import torch.optim as optim\n",
    "\n",
    "class Estimator(BaseEstimator):\n",
    "    def __init__(self, input_size, num_layers=1, num_neurons=32, learn_rate=0.001, epochs=10):\n",
    "        self.input_size = input_size\n",
    "        self.num_layers = num_layers\n",
    "        self.num_neurons = num_neurons\n",
    "        self.learn_rate = learn_rate\n",
    "        self.epochs = epochs\n",
    "\n",
    "    def fit(self, X, Y):\n",
    "        model = CustomModel(self.input_size, self.num_layers, self.num_neurons)\n",
    "\n",
    "        optimizer = optim.Adam(model.parameters(), lr = self.learn_rate)\n",
    "        criterion = nn.BCELoss()\n",
    "\n",
    "        for epoch in range(self.epochs):\n",
    "            optimizer.zero_grad()\n",
    "            outputs = model(X)\n",
    "            loss = criterion(outputs, Y)\n",
    "            loss.backward()\n",
    "            optimizer.step()\n",
    "        \n",
    "        self.model = model\n",
    "    \n",
    "    def predict(self, X):   \n",
    "        self.model.eval()  \n",
    "        with torch.no_grad():\n",
    "            outputs = self.model(X)\n",
    "            predictions = torch.where(outputs > 0.7, torch.tensor(1), torch.tensor(0))\n",
    "        return predictions\n",
    "    \n",
    "    def get_pt_model(self):\n",
    "        return self.model"
   ]
  },
  {
   "cell_type": "code",
   "execution_count": 556,
   "metadata": {},
   "outputs": [
    {
     "name": "stdout",
     "output_type": "stream",
     "text": [
      "Fitting 3 folds for each of 189 candidates, totalling 567 fits\n"
     ]
    }
   ],
   "source": [
    "from sklearn.model_selection import GridSearchCV\n",
    "\n",
    "param_grid = param_grid = {\n",
    "    'num_layers': [1, 2, 3, 4, 5, 6, 7],\n",
    "    'num_neurons': [64, 32, 16],\n",
    "    'learn_rate': [0.001, 0.01, 0.1],\n",
    "    'epochs': [80,90,100]\n",
    "}\n",
    "\n",
    "\n",
    "grid_search = GridSearchCV(\n",
    "    estimator = Estimator(len(features_df.columns)),\n",
    "    param_grid = param_grid,\n",
    "    cv = 3,  # Number of cross-validation folds\n",
    "    scoring = 'f1',  # Evaluation metric\n",
    "    verbose=1,  # Verbosity level\n",
    "    error_score= 'raise'\n",
    ")\n",
    "\n",
    "grid_search.fit(X_train, Y_train)\n",
    "\n",
    "best_model = grid_search.best_estimator_\n",
    "best_params = grid_search.best_params_\n",
    "\n"
   ]
  },
  {
   "cell_type": "code",
   "execution_count": 557,
   "metadata": {},
   "outputs": [
    {
     "data": {
      "text/plain": [
       "{'epochs': 80, 'learn_rate': 0.01, 'num_layers': 7, 'num_neurons': 32}"
      ]
     },
     "execution_count": 557,
     "metadata": {},
     "output_type": "execute_result"
    }
   ],
   "source": [
    "best_params"
   ]
  },
  {
   "cell_type": "code",
   "execution_count": 558,
   "metadata": {},
   "outputs": [],
   "source": [
    "pt_model = best_model.get_pt_model()\n",
    "torch.save(pt_model.state_dict(), '../Models/nbamodel.pt')"
   ]
  },
  {
   "cell_type": "markdown",
   "metadata": {},
   "source": [
    "## Testing neural network on testing dataset\n",
    "\n",
    "Evaluate performance on testing dataset."
   ]
  },
  {
   "cell_type": "code",
   "execution_count": 559,
   "metadata": {},
   "outputs": [
    {
     "name": "stdout",
     "output_type": "stream",
     "text": [
      "[array([[0.00000000e+00],\n",
      "       [9.98185933e-01],\n",
      "       [2.63816706e-04],\n",
      "       [2.93151024e-11],\n",
      "       [3.68236899e-34],\n",
      "       [0.00000000e+00],\n",
      "       [0.00000000e+00],\n",
      "       [1.53652709e-20],\n",
      "       [1.77569032e-28],\n",
      "       [0.00000000e+00],\n",
      "       [0.00000000e+00],\n",
      "       [0.00000000e+00],\n",
      "       [6.66198321e-04],\n",
      "       [7.78490403e-07],\n",
      "       [2.74713216e-18],\n",
      "       [3.89807999e-01],\n",
      "       [8.75381254e-18],\n",
      "       [6.60358155e-21],\n",
      "       [0.00000000e+00],\n",
      "       [0.00000000e+00],\n",
      "       [4.91125184e-32],\n",
      "       [6.39728278e-22],\n",
      "       [0.00000000e+00],\n",
      "       [0.00000000e+00],\n",
      "       [3.12844075e-35],\n",
      "       [0.00000000e+00],\n",
      "       [1.88622964e-20],\n",
      "       [1.52173890e-14],\n",
      "       [0.00000000e+00],\n",
      "       [1.99509333e-19],\n",
      "       [1.86847776e-26],\n",
      "       [9.94916916e-01],\n",
      "       [0.00000000e+00],\n",
      "       [0.00000000e+00],\n",
      "       [8.58236015e-01],\n",
      "       [0.00000000e+00],\n",
      "       [0.00000000e+00],\n",
      "       [0.00000000e+00],\n",
      "       [0.00000000e+00],\n",
      "       [1.33217743e-03],\n",
      "       [6.40556428e-21],\n",
      "       [8.62664208e-02],\n",
      "       [1.45079672e-01],\n",
      "       [1.42999085e-11],\n",
      "       [0.00000000e+00],\n",
      "       [1.32938142e-30],\n",
      "       [1.70467985e-25],\n",
      "       [0.00000000e+00],\n",
      "       [0.00000000e+00],\n",
      "       [1.09866335e-28],\n",
      "       [1.45018745e-11],\n",
      "       [7.35194265e-30],\n",
      "       [9.95893359e-01],\n",
      "       [4.91886449e-39],\n",
      "       [9.85604286e-01],\n",
      "       [9.94194806e-01],\n",
      "       [3.38405512e-29],\n",
      "       [0.00000000e+00],\n",
      "       [5.12714490e-36],\n",
      "       [1.98803260e-03],\n",
      "       [2.43899790e-13],\n",
      "       [8.26920313e-36],\n",
      "       [2.21891464e-11],\n",
      "       [3.24999409e-31]], dtype=float32), array([[3.8168045e-07],\n",
      "       [0.0000000e+00],\n",
      "       [0.0000000e+00],\n",
      "       [0.0000000e+00],\n",
      "       [0.0000000e+00],\n",
      "       [1.7010678e-18],\n",
      "       [4.1969067e-25],\n",
      "       [0.0000000e+00],\n",
      "       [0.0000000e+00],\n",
      "       [5.9069007e-11],\n",
      "       [0.0000000e+00],\n",
      "       [2.5770075e-03],\n",
      "       [1.1350089e-03],\n",
      "       [1.7471745e-35],\n",
      "       [0.0000000e+00],\n",
      "       [5.1583884e-39],\n",
      "       [1.1832171e-35],\n",
      "       [2.2857122e-33],\n",
      "       [2.0010360e-03],\n",
      "       [2.3852122e-25],\n",
      "       [0.0000000e+00],\n",
      "       [9.7177333e-01],\n",
      "       [5.2393494e-07],\n",
      "       [1.9411518e-28],\n",
      "       [9.9196589e-01],\n",
      "       [9.9635291e-01],\n",
      "       [1.3969671e-10],\n",
      "       [1.9042598e-36],\n",
      "       [3.1720088e-03],\n",
      "       [6.5332949e-01],\n",
      "       [1.7431535e-35],\n",
      "       [0.0000000e+00],\n",
      "       [8.4194693e-37],\n",
      "       [0.0000000e+00],\n",
      "       [1.0614231e-07],\n",
      "       [0.0000000e+00],\n",
      "       [0.0000000e+00],\n",
      "       [0.0000000e+00],\n",
      "       [0.0000000e+00],\n",
      "       [2.3097380e-10],\n",
      "       [4.4083419e-28],\n",
      "       [5.7314871e-16],\n",
      "       [3.3339192e-35],\n",
      "       [0.0000000e+00],\n",
      "       [0.0000000e+00],\n",
      "       [6.5427766e-06],\n",
      "       [0.0000000e+00],\n",
      "       [4.5800101e-05],\n",
      "       [0.0000000e+00],\n",
      "       [0.0000000e+00],\n",
      "       [0.0000000e+00],\n",
      "       [0.0000000e+00],\n",
      "       [0.0000000e+00],\n",
      "       [0.0000000e+00],\n",
      "       [1.2736784e-15],\n",
      "       [1.1242376e-01],\n",
      "       [0.0000000e+00],\n",
      "       [7.3934332e-02],\n",
      "       [3.3582719e-21],\n",
      "       [1.1548211e-03],\n",
      "       [0.0000000e+00],\n",
      "       [0.0000000e+00],\n",
      "       [1.4058236e-04],\n",
      "       [2.4839105e-06]], dtype=float32), array([[2.0761438e-27],\n",
      "       [0.0000000e+00],\n",
      "       [6.9441050e-11],\n",
      "       [7.3036335e-39],\n",
      "       [4.9528587e-36],\n",
      "       [9.4668192e-01],\n",
      "       [0.0000000e+00],\n",
      "       [0.0000000e+00],\n",
      "       [0.0000000e+00],\n",
      "       [1.6625240e-34],\n",
      "       [2.0726479e-14],\n",
      "       [1.8294754e-25],\n",
      "       [0.0000000e+00],\n",
      "       [1.3287412e-32],\n",
      "       [1.8356994e-02],\n",
      "       [0.0000000e+00],\n",
      "       [0.0000000e+00],\n",
      "       [0.0000000e+00],\n",
      "       [2.9077802e-16],\n",
      "       [6.3931511e-04],\n",
      "       [2.3969927e-21],\n",
      "       [9.5023012e-01],\n",
      "       [0.0000000e+00],\n",
      "       [7.7431503e-33],\n",
      "       [2.9303353e-08],\n",
      "       [2.5283052e-05],\n",
      "       [9.9526775e-01],\n",
      "       [0.0000000e+00],\n",
      "       [1.0178016e-11],\n",
      "       [1.7249506e-06],\n",
      "       [0.0000000e+00],\n",
      "       [1.7375193e-04],\n",
      "       [2.3881196e-07],\n",
      "       [1.0512311e-36],\n",
      "       [0.0000000e+00],\n",
      "       [0.0000000e+00],\n",
      "       [7.0524639e-37],\n",
      "       [0.0000000e+00],\n",
      "       [4.2533587e-21],\n",
      "       [0.0000000e+00],\n",
      "       [0.0000000e+00],\n",
      "       [1.7674095e-38],\n",
      "       [7.3819482e-01],\n",
      "       [3.8560651e-23],\n",
      "       [0.0000000e+00],\n",
      "       [4.2297579e-06],\n",
      "       [0.0000000e+00],\n",
      "       [3.4393688e-20],\n",
      "       [0.0000000e+00],\n",
      "       [0.0000000e+00],\n",
      "       [7.4151538e-28],\n",
      "       [4.5068821e-34],\n",
      "       [1.3704312e-05],\n",
      "       [8.2756177e-02],\n",
      "       [1.4541975e-38],\n",
      "       [1.4355581e-29],\n",
      "       [0.0000000e+00],\n",
      "       [0.0000000e+00],\n",
      "       [6.5747057e-27],\n",
      "       [0.0000000e+00],\n",
      "       [0.0000000e+00],\n",
      "       [9.9142832e-01],\n",
      "       [4.3725001e-21],\n",
      "       [0.0000000e+00]], dtype=float32), array([[7.1928891e-19],\n",
      "       [2.8822057e-37],\n",
      "       [0.0000000e+00],\n",
      "       [2.4911860e-13],\n",
      "       [0.0000000e+00],\n",
      "       [7.8202528e-30],\n",
      "       [5.7160179e-27],\n",
      "       [0.0000000e+00],\n",
      "       [0.0000000e+00],\n",
      "       [0.0000000e+00],\n",
      "       [2.2026472e-33],\n",
      "       [2.3591685e-33],\n",
      "       [6.8795132e-13],\n",
      "       [0.0000000e+00],\n",
      "       [3.8811939e-07],\n",
      "       [5.7283076e-12],\n",
      "       [6.2782913e-01],\n",
      "       [7.9470113e-15],\n",
      "       [8.4700501e-01],\n",
      "       [1.6211557e-01],\n",
      "       [0.0000000e+00],\n",
      "       [5.9982015e-12],\n",
      "       [8.0979022e-04],\n",
      "       [4.5223358e-09],\n",
      "       [0.0000000e+00],\n",
      "       [0.0000000e+00],\n",
      "       [2.5782896e-34],\n",
      "       [5.3405353e-14],\n",
      "       [0.0000000e+00],\n",
      "       [0.0000000e+00],\n",
      "       [3.7102604e-03],\n",
      "       [5.9225563e-12],\n",
      "       [0.0000000e+00],\n",
      "       [1.1681350e-27],\n",
      "       [0.0000000e+00],\n",
      "       [0.0000000e+00],\n",
      "       [0.0000000e+00],\n",
      "       [2.5247918e-38],\n",
      "       [5.9651178e-26],\n",
      "       [0.0000000e+00],\n",
      "       [1.9953557e-38],\n",
      "       [4.6536511e-13],\n",
      "       [0.0000000e+00],\n",
      "       [2.1962054e-05],\n",
      "       [2.5801381e-05],\n",
      "       [0.0000000e+00],\n",
      "       [1.6531344e-17],\n",
      "       [1.5365794e-28],\n",
      "       [0.0000000e+00],\n",
      "       [0.0000000e+00],\n",
      "       [3.3101854e-34],\n",
      "       [8.9323753e-01],\n",
      "       [5.5447398e-28],\n",
      "       [5.4799238e-31],\n",
      "       [4.4242889e-16],\n",
      "       [0.0000000e+00],\n",
      "       [9.9004376e-01],\n",
      "       [0.0000000e+00],\n",
      "       [9.6910661e-01],\n",
      "       [1.0720345e-28],\n",
      "       [0.0000000e+00],\n",
      "       [2.3727653e-05],\n",
      "       [2.8266298e-08],\n",
      "       [5.8929003e-19]], dtype=float32), array([[6.1706467e-33],\n",
      "       [0.0000000e+00],\n",
      "       [0.0000000e+00],\n",
      "       [3.7262570e-03],\n",
      "       [0.0000000e+00],\n",
      "       [4.1890406e-16],\n",
      "       [9.0842572e-30],\n",
      "       [7.7252210e-08],\n",
      "       [4.3476060e-19],\n",
      "       [6.1027234e-22],\n",
      "       [1.5140059e-18],\n",
      "       [4.0308917e-01],\n",
      "       [0.0000000e+00],\n",
      "       [1.0470880e-30],\n",
      "       [0.0000000e+00],\n",
      "       [2.3376651e-28],\n",
      "       [4.8628396e-31],\n",
      "       [4.7931702e-30],\n",
      "       [1.7380419e-06],\n",
      "       [0.0000000e+00],\n",
      "       [0.0000000e+00],\n",
      "       [1.6529065e-33],\n",
      "       [9.9551803e-01],\n",
      "       [1.5944335e-07],\n",
      "       [4.1993380e-19],\n",
      "       [8.0274280e-35],\n",
      "       [0.0000000e+00],\n",
      "       [9.0783739e-01],\n",
      "       [0.0000000e+00],\n",
      "       [0.0000000e+00],\n",
      "       [9.9911565e-01],\n",
      "       [2.9974631e-31],\n",
      "       [1.8951086e-12],\n",
      "       [9.8533338e-01],\n",
      "       [0.0000000e+00],\n",
      "       [0.0000000e+00],\n",
      "       [0.0000000e+00],\n",
      "       [1.9815982e-04],\n",
      "       [5.4850927e-15],\n",
      "       [1.4470993e-21],\n",
      "       [0.0000000e+00],\n",
      "       [7.6164768e-33],\n",
      "       [6.0662160e-07],\n",
      "       [1.2611136e-04],\n",
      "       [0.0000000e+00],\n",
      "       [0.0000000e+00],\n",
      "       [1.9511573e-15],\n",
      "       [8.1223803e-08],\n",
      "       [0.0000000e+00],\n",
      "       [9.0931935e-32],\n",
      "       [3.0169793e-04],\n",
      "       [9.0057594e-01],\n",
      "       [0.0000000e+00],\n",
      "       [0.0000000e+00],\n",
      "       [9.7070056e-01],\n",
      "       [9.7669996e-33],\n",
      "       [1.2413380e-31],\n",
      "       [0.0000000e+00],\n",
      "       [2.5849968e-11],\n",
      "       [2.0227924e-38],\n",
      "       [8.6572154e-09],\n",
      "       [0.0000000e+00],\n",
      "       [0.0000000e+00],\n",
      "       [4.0136922e-11]], dtype=float32), array([[9.38174784e-01],\n",
      "       [2.17237703e-22],\n",
      "       [0.00000000e+00],\n",
      "       [1.07113306e-13],\n",
      "       [0.00000000e+00],\n",
      "       [8.54223395e-24],\n",
      "       [0.00000000e+00],\n",
      "       [1.00548557e-37],\n",
      "       [0.00000000e+00],\n",
      "       [0.00000000e+00],\n",
      "       [4.91192476e-25],\n",
      "       [0.00000000e+00],\n",
      "       [2.82766759e-05],\n",
      "       [6.96172036e-36],\n",
      "       [5.55563986e-01]], dtype=float32)]\n",
      "Test Loss: 0.0632\n",
      "Accuracy: 98.51%\n"
     ]
    }
   ],
   "source": [
    "pt_model.eval()  \n",
    "test_loss = 0.0\n",
    "correct_predictions = 0\n",
    "total_samples = 0\n",
    "\n",
    "true_labels = []\n",
    "pred_labels = []\n",
    "criterion = nn.BCELoss()\n",
    "with torch.no_grad():\n",
    "    for inputs, labels in test_dataloader:  \n",
    "        outputs = pt_model(inputs)\n",
    "        true_labels.append(labels.cpu().numpy())\n",
    "        pred_labels.append(outputs.cpu().numpy())\n",
    "\n",
    "        loss = criterion(outputs, labels)\n",
    "\n",
    "        test_loss += loss.item()\n",
    "\n",
    "        predicted_classes = (outputs >= 0.7).float() \n",
    "        correct_predictions += (predicted_classes == labels).sum().item()\n",
    "        total_samples += labels.size(0)\n",
    "\n",
    "print(pred_labels)\n",
    "true_labels = np.concatenate(true_labels)\n",
    "pred_labels = np.concatenate(pred_labels)\n",
    "\n",
    "\n",
    "average_test_loss = test_loss / len(test_dataloader)\n",
    "accuracy = correct_predictions / total_samples\n",
    "\n",
    "print(f'Test Loss: {average_test_loss:.4f}')\n",
    "print(f'Accuracy: {accuracy * 100:.2f}%')"
   ]
  },
  {
   "attachments": {},
   "cell_type": "markdown",
   "metadata": {},
   "source": [
    "## Visualization for Performance\n",
    "\n",
    "We'll use a confusion matrix to visualize performance. In this case, the order of the confusion matrix is TP, FP, FN, TN.\n",
    "\n",
    "TP (True Positive): When prediction is 1 and the true output is 1. <br>\n",
    "FP (False Positive): When prediction is 1 and the true output is 0. <br>\n",
    "TN (True Negative): When prediction is 0 and the true output is 0. <br>\n",
    "FN (False Negative): When prediction is 0 and the true output is 1. <br>"
   ]
  },
  {
   "cell_type": "code",
   "execution_count": 560,
   "metadata": {},
   "outputs": [
    {
     "name": "stdout",
     "output_type": "stream",
     "text": [
      "[[ 23   3]\n",
      " [  2 307]]\n"
     ]
    }
   ],
   "source": [
    "from sklearn.metrics import confusion_matrix\n",
    "\n",
    "threshold = 0.7\n",
    "pred_labels = (pred_labels >= threshold).astype(int)\n",
    "\n",
    "conf_mtx = confusion_matrix(true_labels, pred_labels, labels = [1,0])\n",
    "print(conf_mtx)"
   ]
  },
  {
   "cell_type": "code",
   "execution_count": 561,
   "metadata": {},
   "outputs": [
    {
     "data": {
      "text/plain": [
       "<Axes: >"
      ]
     },
     "execution_count": 561,
     "metadata": {},
     "output_type": "execute_result"
    },
    {
     "data": {
      "image/png": "[encoded data removed]",
      "text/plain": [
       "<Figure size 640x480 with 2 Axes>"
      ]
     },
     "metadata": {},
     "output_type": "display_data"
    }
   ],
   "source": [
    "import seaborn as sns \n",
    "plt.xlabel(\"\")\n",
    "sns.heatmap(conf_mtx, annot = True, cmap = \"Greens\")"
   ]
  },
  {
   "cell_type": "code",
   "execution_count": 562,
   "metadata": {},
   "outputs": [
    {
     "name": "stdout",
     "output_type": "stream",
     "text": [
      "23 2 307 3\n"
     ]
    }
   ],
   "source": [
    "TP = conf_mtx[0][0]\n",
    "FP = conf_mtx[1][0]\n",
    "TN = conf_mtx[1][1]\n",
    "FN = conf_mtx[0][1]\n",
    "\n",
    "print(TP, FP, TN, FN)"
   ]
  },
  {
   "attachments": {},
   "cell_type": "markdown",
   "metadata": {},
   "source": [
    "## Evaluation Metrics\n",
    "\n",
    "Precision is calculated as follows: $$ \\frac{TP}{(TP + FP)} $$\n",
    "\n",
    "Recall is calculated as follows: $$ \\frac{TP}{(TP + FN)} $$\n",
    "\n",
    "f1Score is calculated as follows: $$ \\frac{Precision * Recall}{(Precision + Recall)} $$ "
   ]
  },
  {
   "cell_type": "code",
   "execution_count": 563,
   "metadata": {},
   "outputs": [
    {
     "name": "stdout",
     "output_type": "stream",
     "text": [
      "Precision: 0.92\n",
      "Recall: 0.8846153846153846\n",
      "f1score: 0.9019607843137256\n"
     ]
    }
   ],
   "source": [
    "precision = TP / (TP + FP)\n",
    "recall = TP / (TP + FN)\n",
    "f1score = (2 * precision * recall) / (precision + recall)\n",
    "\n",
    "print(f'Precision: {precision}')\n",
    "print(f'Recall: {recall}')\n",
    "print(f'f1score: {f1score}')\n"
   ]
  }
 ],
 "metadata": {
  "kernelspec": {
   "display_name": "Python 3.8.8 ('base')",
   "language": "python",
   "name": "python3"
  },
  "language_info": {
   "codemirror_mode": {
    "name": "ipython",
    "version": 3
   },
   "file_extension": ".py",
   "mimetype": "text/x-python",
   "name": "python",
   "nbconvert_exporter": "python",
   "pygments_lexer": "ipython3",
   "version": "3.11.5"
  },
  "orig_nbformat": 4,
  "vscode": {
   "interpreter": {
    "hash": "c47e47cda05e9886a0f1932160b1f70f95aa1d71424dff224d867803480b36f1"
   }
  }
 },
 "nbformat": 4,
 "nbformat_minor": 2
}
